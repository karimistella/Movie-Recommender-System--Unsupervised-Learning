{
  "cells": [
    {
      "cell_type": "code",
      "execution_count": 2,
      "metadata": {
        "id": "bfn5sxv_DQfH"
      },
      "outputs": [],
      "source": [
        "# from google.colab import drive\n",
        "\n",
        "# drive.mount('/content/drive')"
      ]
    },
    {
      "cell_type": "code",
      "execution_count": 3,
      "metadata": {
        "id": "3iXPKe9iDfnN"
      },
      "outputs": [],
      "source": [
        "# !unzip drive/MyDrive/edsa-movie-recommendation-2022.zip > /dev/null"
      ]
    },
    {
      "cell_type": "code",
      "execution_count": 4,
      "metadata": {
        "id": "jJoKzyWPDpVd"
      },
      "outputs": [],
      "source": [
        "from matplotlib import figure\n",
        "import pandas as pd\n",
        "import numpy as np\n",
        "import matplotlib.pyplot as plt\n",
        "# from multiprocesspandas import applyparallel\n",
        "plt.rcParams['figure.figsize'] = (15, 10)"
      ]
    },
    {
      "cell_type": "code",
      "execution_count": 5,
      "metadata": {
        "id": "iE-qn_PPDwCQ"
      },
      "outputs": [],
      "source": [
        "def convert_columns(data):\n",
        "  \n",
        "  for col in data.columns:\n",
        "    if data[col].dtype == 'object':\n",
        "      data[col] = data[col].astype('category')\n",
        "    \n",
        "    elif data[col].dtype == 'int64':\n",
        "      data[col] = data[col].astype('int32')\n",
        "    \n",
        "    else:\n",
        "      data[col] = data[col].astype('float32')\n",
        "    \n",
        "  return data"
      ]
    },
    {
      "cell_type": "code",
      "execution_count": 6,
      "metadata": {
        "id": "AX_ZbyJ6DyQG"
      },
      "outputs": [],
      "source": [
        "imdb_data = pd.read_csv('imdb_data.csv')\n",
        "train = pd.read_csv('train.csv')\n",
        "train = convert_columns(train)\n",
        "test = pd.read_csv('test.csv')\n",
        "test = convert_columns(test)\n",
        "movies = pd.read_csv('movies.csv')\n",
        "# movies = convert_columns(movies)\n",
        "sample_submission = pd.read_csv('sample_submission.csv')"
      ]
    },
    {
      "cell_type": "code",
      "source": [
        "def aggregate(series):\n",
        "  aggregate = []\n",
        "  for i in series:\n",
        "    for j in i:\n",
        "      aggregate.append(j)\n",
        "  \n",
        "  return aggregate"
      ],
      "metadata": {
        "id": "N_rNmxxYFvFW"
      },
      "execution_count": 7,
      "outputs": []
    },
    {
      "cell_type": "code",
      "source": [
        "def split_text(text, sep):\n",
        "  split_text = text.split(sep)\n",
        "  return split_text\n",
        "\n",
        "def join_lists(list_):\n",
        "  return ' '.join(list_)"
      ],
      "metadata": {
        "id": "6pkyMrNCF8ZP"
      },
      "execution_count": 8,
      "outputs": []
    },
    {
      "cell_type": "code",
      "source": [
        "movies['genres'] = movies['genres'].apply(split_text, args=('|',))"
      ],
      "metadata": {
        "id": "MCyJ695WFfR9"
      },
      "execution_count": 9,
      "outputs": []
    },
    {
      "cell_type": "code",
      "source": [
        "movies['year'] = movies['title'].apply(lambda x: x[-7:].replace('(', '').replace(')', ''))\n",
        "movies['title'] = movies['title'].apply((lambda x: x[:-7]))"
      ],
      "metadata": {
        "id": "8mPQ5mGUIcR5"
      },
      "execution_count": 10,
      "outputs": []
    },
    {
      "cell_type": "code",
      "execution_count": 11,
      "metadata": {
        "colab": {
          "base_uri": "https://localhost:8080/",
          "height": 206
        },
        "id": "n7Fb7c1gEhYo",
        "outputId": "60b55162-1899-44a8-d4c8-2ef9a6d436bf"
      },
      "outputs": [
        {
          "output_type": "execute_result",
          "data": {
            "text/plain": [
              "   movieId                                         title_cast  \\\n",
              "0        1  Tom Hanks|Tim Allen|Don Rickles|Jim Varney|Wal...   \n",
              "1        2  Robin Williams|Jonathan Hyde|Kirsten Dunst|Bra...   \n",
              "2        3  Walter Matthau|Jack Lemmon|Sophia Loren|Ann-Ma...   \n",
              "3        4  Whitney Houston|Angela Bassett|Loretta Devine|...   \n",
              "4        5  Steve Martin|Diane Keaton|Martin Short|Kimberl...   \n",
              "\n",
              "              director  runtime       budget  \\\n",
              "0        John Lasseter     81.0  $30,000,000   \n",
              "1   Jonathan Hensleigh    104.0  $65,000,000   \n",
              "2  Mark Steven Johnson    101.0  $25,000,000   \n",
              "3       Terry McMillan    124.0  $16,000,000   \n",
              "4       Albert Hackett    106.0  $30,000,000   \n",
              "\n",
              "                                       plot_keywords  \n",
              "0                   toy|rivalry|cowboy|cgi animation  \n",
              "1                   board game|adventurer|fight|game  \n",
              "2                         boat|lake|neighbor|rivalry  \n",
              "3  black american|husband wife relationship|betra...  \n",
              "4                    fatherhood|doberman|dog|mansion  "
            ],
            "text/html": [
              "\n",
              "  <div id=\"df-b34f1703-c7dc-4664-ad42-5e0068127d83\">\n",
              "    <div class=\"colab-df-container\">\n",
              "      <div>\n",
              "<style scoped>\n",
              "    .dataframe tbody tr th:only-of-type {\n",
              "        vertical-align: middle;\n",
              "    }\n",
              "\n",
              "    .dataframe tbody tr th {\n",
              "        vertical-align: top;\n",
              "    }\n",
              "\n",
              "    .dataframe thead th {\n",
              "        text-align: right;\n",
              "    }\n",
              "</style>\n",
              "<table border=\"1\" class=\"dataframe\">\n",
              "  <thead>\n",
              "    <tr style=\"text-align: right;\">\n",
              "      <th></th>\n",
              "      <th>movieId</th>\n",
              "      <th>title_cast</th>\n",
              "      <th>director</th>\n",
              "      <th>runtime</th>\n",
              "      <th>budget</th>\n",
              "      <th>plot_keywords</th>\n",
              "    </tr>\n",
              "  </thead>\n",
              "  <tbody>\n",
              "    <tr>\n",
              "      <th>0</th>\n",
              "      <td>1</td>\n",
              "      <td>Tom Hanks|Tim Allen|Don Rickles|Jim Varney|Wal...</td>\n",
              "      <td>John Lasseter</td>\n",
              "      <td>81.0</td>\n",
              "      <td>$30,000,000</td>\n",
              "      <td>toy|rivalry|cowboy|cgi animation</td>\n",
              "    </tr>\n",
              "    <tr>\n",
              "      <th>1</th>\n",
              "      <td>2</td>\n",
              "      <td>Robin Williams|Jonathan Hyde|Kirsten Dunst|Bra...</td>\n",
              "      <td>Jonathan Hensleigh</td>\n",
              "      <td>104.0</td>\n",
              "      <td>$65,000,000</td>\n",
              "      <td>board game|adventurer|fight|game</td>\n",
              "    </tr>\n",
              "    <tr>\n",
              "      <th>2</th>\n",
              "      <td>3</td>\n",
              "      <td>Walter Matthau|Jack Lemmon|Sophia Loren|Ann-Ma...</td>\n",
              "      <td>Mark Steven Johnson</td>\n",
              "      <td>101.0</td>\n",
              "      <td>$25,000,000</td>\n",
              "      <td>boat|lake|neighbor|rivalry</td>\n",
              "    </tr>\n",
              "    <tr>\n",
              "      <th>3</th>\n",
              "      <td>4</td>\n",
              "      <td>Whitney Houston|Angela Bassett|Loretta Devine|...</td>\n",
              "      <td>Terry McMillan</td>\n",
              "      <td>124.0</td>\n",
              "      <td>$16,000,000</td>\n",
              "      <td>black american|husband wife relationship|betra...</td>\n",
              "    </tr>\n",
              "    <tr>\n",
              "      <th>4</th>\n",
              "      <td>5</td>\n",
              "      <td>Steve Martin|Diane Keaton|Martin Short|Kimberl...</td>\n",
              "      <td>Albert Hackett</td>\n",
              "      <td>106.0</td>\n",
              "      <td>$30,000,000</td>\n",
              "      <td>fatherhood|doberman|dog|mansion</td>\n",
              "    </tr>\n",
              "  </tbody>\n",
              "</table>\n",
              "</div>\n",
              "      <button class=\"colab-df-convert\" onclick=\"convertToInteractive('df-b34f1703-c7dc-4664-ad42-5e0068127d83')\"\n",
              "              title=\"Convert this dataframe to an interactive table.\"\n",
              "              style=\"display:none;\">\n",
              "        \n",
              "  <svg xmlns=\"http://www.w3.org/2000/svg\" height=\"24px\"viewBox=\"0 0 24 24\"\n",
              "       width=\"24px\">\n",
              "    <path d=\"M0 0h24v24H0V0z\" fill=\"none\"/>\n",
              "    <path d=\"M18.56 5.44l.94 2.06.94-2.06 2.06-.94-2.06-.94-.94-2.06-.94 2.06-2.06.94zm-11 1L8.5 8.5l.94-2.06 2.06-.94-2.06-.94L8.5 2.5l-.94 2.06-2.06.94zm10 10l.94 2.06.94-2.06 2.06-.94-2.06-.94-.94-2.06-.94 2.06-2.06.94z\"/><path d=\"M17.41 7.96l-1.37-1.37c-.4-.4-.92-.59-1.43-.59-.52 0-1.04.2-1.43.59L10.3 9.45l-7.72 7.72c-.78.78-.78 2.05 0 2.83L4 21.41c.39.39.9.59 1.41.59.51 0 1.02-.2 1.41-.59l7.78-7.78 2.81-2.81c.8-.78.8-2.07 0-2.86zM5.41 20L4 18.59l7.72-7.72 1.47 1.35L5.41 20z\"/>\n",
              "  </svg>\n",
              "      </button>\n",
              "      \n",
              "  <style>\n",
              "    .colab-df-container {\n",
              "      display:flex;\n",
              "      flex-wrap:wrap;\n",
              "      gap: 12px;\n",
              "    }\n",
              "\n",
              "    .colab-df-convert {\n",
              "      background-color: #E8F0FE;\n",
              "      border: none;\n",
              "      border-radius: 50%;\n",
              "      cursor: pointer;\n",
              "      display: none;\n",
              "      fill: #1967D2;\n",
              "      height: 32px;\n",
              "      padding: 0 0 0 0;\n",
              "      width: 32px;\n",
              "    }\n",
              "\n",
              "    .colab-df-convert:hover {\n",
              "      background-color: #E2EBFA;\n",
              "      box-shadow: 0px 1px 2px rgba(60, 64, 67, 0.3), 0px 1px 3px 1px rgba(60, 64, 67, 0.15);\n",
              "      fill: #174EA6;\n",
              "    }\n",
              "\n",
              "    [theme=dark] .colab-df-convert {\n",
              "      background-color: #3B4455;\n",
              "      fill: #D2E3FC;\n",
              "    }\n",
              "\n",
              "    [theme=dark] .colab-df-convert:hover {\n",
              "      background-color: #434B5C;\n",
              "      box-shadow: 0px 1px 3px 1px rgba(0, 0, 0, 0.15);\n",
              "      filter: drop-shadow(0px 1px 2px rgba(0, 0, 0, 0.3));\n",
              "      fill: #FFFFFF;\n",
              "    }\n",
              "  </style>\n",
              "\n",
              "      <script>\n",
              "        const buttonEl =\n",
              "          document.querySelector('#df-b34f1703-c7dc-4664-ad42-5e0068127d83 button.colab-df-convert');\n",
              "        buttonEl.style.display =\n",
              "          google.colab.kernel.accessAllowed ? 'block' : 'none';\n",
              "\n",
              "        async function convertToInteractive(key) {\n",
              "          const element = document.querySelector('#df-b34f1703-c7dc-4664-ad42-5e0068127d83');\n",
              "          const dataTable =\n",
              "            await google.colab.kernel.invokeFunction('convertToInteractive',\n",
              "                                                     [key], {});\n",
              "          if (!dataTable) return;\n",
              "\n",
              "          const docLinkHtml = 'Like what you see? Visit the ' +\n",
              "            '<a target=\"_blank\" href=https://colab.research.google.com/notebooks/data_table.ipynb>data table notebook</a>'\n",
              "            + ' to learn more about interactive tables.';\n",
              "          element.innerHTML = '';\n",
              "          dataTable['output_type'] = 'display_data';\n",
              "          await google.colab.output.renderOutput(dataTable, element);\n",
              "          const docLink = document.createElement('div');\n",
              "          docLink.innerHTML = docLinkHtml;\n",
              "          element.appendChild(docLink);\n",
              "        }\n",
              "      </script>\n",
              "    </div>\n",
              "  </div>\n",
              "  "
            ]
          },
          "metadata": {},
          "execution_count": 11
        }
      ],
      "source": [
        "imdb_data_copy = imdb_data.copy(deep=True)\n",
        "imdb_data_copy.head()"
      ]
    },
    {
      "cell_type": "code",
      "execution_count": 12,
      "metadata": {
        "id": "ZsInyG3wEi7g"
      },
      "outputs": [],
      "source": [
        "imdb_data_copy = imdb_data_copy.drop('budget', axis=1)\n",
        "imdb_data_copy = imdb_data_copy.dropna()"
      ]
    },
    {
      "cell_type": "code",
      "execution_count": 13,
      "metadata": {
        "id": "fFr6SDnVErWh"
      },
      "outputs": [],
      "source": [
        "imdb_data_copy['title_cast'] = imdb_data_copy['title_cast'].apply(split_text, args=(\"|\", ))"
      ]
    },
    {
      "cell_type": "code",
      "execution_count": 14,
      "metadata": {
        "id": "jndA5-AFEyAm"
      },
      "outputs": [],
      "source": [
        "imdb_data_copy['plot_keywords'] = imdb_data_copy['plot_keywords'].apply(split_text, args=(\"|\", )).apply(join_lists).apply(split_text, args=(\" \", ))"
      ]
    },
    {
      "cell_type": "code",
      "source": [
        "# actors= aggregate(imdb_data_copy.title_cast)\n",
        "# print(f'there are {len(set(actors))} different actors')"
      ],
      "metadata": {
        "id": "RgWJYmAlHGOb"
      },
      "execution_count": 15,
      "outputs": []
    },
    {
      "cell_type": "code",
      "source": [
        "# pk= aggregate(imdb_data_copy.plot_keywords)\n",
        "# print(f'there are {len(set(pk))} different plot keywords')"
      ],
      "metadata": {
        "id": "5uHo3SkSHFaj"
      },
      "execution_count": 16,
      "outputs": []
    },
    {
      "cell_type": "code",
      "source": [
        "# director= aggregate(imdb_data_copy.director)\n",
        "# print(f'there are {len(set(director))} different directors')"
      ],
      "metadata": {
        "id": "1A8okl4UHFSz"
      },
      "execution_count": 17,
      "outputs": []
    },
    {
      "cell_type": "code",
      "source": [
        "imdb_movies = imdb_data_copy.merge(movies, on='movieId')"
      ],
      "metadata": {
        "id": "64WUsmMRJq0A"
      },
      "execution_count": 18,
      "outputs": []
    },
    {
      "cell_type": "code",
      "source": [
        "del imdb_data_copy\n",
        "del imdb_data"
      ],
      "metadata": {
        "id": "fzzzUHJ9u-b7"
      },
      "execution_count": 19,
      "outputs": []
    },
    {
      "cell_type": "code",
      "execution_count": 20,
      "metadata": {
        "colab": {
          "base_uri": "https://localhost:8080/"
        },
        "id": "dWr2AH2BGss-",
        "outputId": "c007536c-e648-4496-a0c2-c8ed7ba427f5"
      },
      "outputs": [
        {
          "output_type": "execute_result",
          "data": {
            "text/plain": [
              "(12632, 8)"
            ]
          },
          "metadata": {},
          "execution_count": 20
        }
      ],
      "source": [
        "imdb_movies.shape"
      ]
    },
    {
      "cell_type": "code",
      "execution_count": 21,
      "metadata": {
        "colab": {
          "base_uri": "https://localhost:8080/",
          "height": 337
        },
        "id": "FzOkw1fLX6vw",
        "outputId": "c39041ef-8af3-41f4-e3c9-4cdc6f277282"
      },
      "outputs": [
        {
          "output_type": "execute_result",
          "data": {
            "text/plain": [
              "   movieId                                         title_cast  \\\n",
              "0        1  [Tom Hanks, Tim Allen, Don Rickles, Jim Varney...   \n",
              "1        2  [Robin Williams, Jonathan Hyde, Kirsten Dunst,...   \n",
              "2        3  [Walter Matthau, Jack Lemmon, Sophia Loren, An...   \n",
              "3        4  [Whitney Houston, Angela Bassett, Loretta Devi...   \n",
              "4        5  [Steve Martin, Diane Keaton, Martin Short, Kim...   \n",
              "\n",
              "              director  runtime  \\\n",
              "0        John Lasseter     81.0   \n",
              "1   Jonathan Hensleigh    104.0   \n",
              "2  Mark Steven Johnson    101.0   \n",
              "3       Terry McMillan    124.0   \n",
              "4       Albert Hackett    106.0   \n",
              "\n",
              "                                       plot_keywords  \\\n",
              "0             [toy, rivalry, cowboy, cgi, animation]   \n",
              "1             [board, game, adventurer, fight, game]   \n",
              "2                    [boat, lake, neighbor, rivalry]   \n",
              "3  [black, american, husband, wife, relationship,...   \n",
              "4               [fatherhood, doberman, dog, mansion]   \n",
              "\n",
              "                         title  \\\n",
              "0                    Toy Story   \n",
              "1                      Jumanji   \n",
              "2             Grumpier Old Men   \n",
              "3            Waiting to Exhale   \n",
              "4  Father of the Bride Part II   \n",
              "\n",
              "                                              genres   year  \n",
              "0  [Adventure, Animation, Children, Comedy, Fantasy]   1995  \n",
              "1                     [Adventure, Children, Fantasy]   1995  \n",
              "2                                  [Comedy, Romance]   1995  \n",
              "3                           [Comedy, Drama, Romance]   1995  \n",
              "4                                           [Comedy]   1995  "
            ],
            "text/html": [
              "\n",
              "  <div id=\"df-efc60d4e-c31e-4813-b677-5db2527cf430\">\n",
              "    <div class=\"colab-df-container\">\n",
              "      <div>\n",
              "<style scoped>\n",
              "    .dataframe tbody tr th:only-of-type {\n",
              "        vertical-align: middle;\n",
              "    }\n",
              "\n",
              "    .dataframe tbody tr th {\n",
              "        vertical-align: top;\n",
              "    }\n",
              "\n",
              "    .dataframe thead th {\n",
              "        text-align: right;\n",
              "    }\n",
              "</style>\n",
              "<table border=\"1\" class=\"dataframe\">\n",
              "  <thead>\n",
              "    <tr style=\"text-align: right;\">\n",
              "      <th></th>\n",
              "      <th>movieId</th>\n",
              "      <th>title_cast</th>\n",
              "      <th>director</th>\n",
              "      <th>runtime</th>\n",
              "      <th>plot_keywords</th>\n",
              "      <th>title</th>\n",
              "      <th>genres</th>\n",
              "      <th>year</th>\n",
              "    </tr>\n",
              "  </thead>\n",
              "  <tbody>\n",
              "    <tr>\n",
              "      <th>0</th>\n",
              "      <td>1</td>\n",
              "      <td>[Tom Hanks, Tim Allen, Don Rickles, Jim Varney...</td>\n",
              "      <td>John Lasseter</td>\n",
              "      <td>81.0</td>\n",
              "      <td>[toy, rivalry, cowboy, cgi, animation]</td>\n",
              "      <td>Toy Story</td>\n",
              "      <td>[Adventure, Animation, Children, Comedy, Fantasy]</td>\n",
              "      <td>1995</td>\n",
              "    </tr>\n",
              "    <tr>\n",
              "      <th>1</th>\n",
              "      <td>2</td>\n",
              "      <td>[Robin Williams, Jonathan Hyde, Kirsten Dunst,...</td>\n",
              "      <td>Jonathan Hensleigh</td>\n",
              "      <td>104.0</td>\n",
              "      <td>[board, game, adventurer, fight, game]</td>\n",
              "      <td>Jumanji</td>\n",
              "      <td>[Adventure, Children, Fantasy]</td>\n",
              "      <td>1995</td>\n",
              "    </tr>\n",
              "    <tr>\n",
              "      <th>2</th>\n",
              "      <td>3</td>\n",
              "      <td>[Walter Matthau, Jack Lemmon, Sophia Loren, An...</td>\n",
              "      <td>Mark Steven Johnson</td>\n",
              "      <td>101.0</td>\n",
              "      <td>[boat, lake, neighbor, rivalry]</td>\n",
              "      <td>Grumpier Old Men</td>\n",
              "      <td>[Comedy, Romance]</td>\n",
              "      <td>1995</td>\n",
              "    </tr>\n",
              "    <tr>\n",
              "      <th>3</th>\n",
              "      <td>4</td>\n",
              "      <td>[Whitney Houston, Angela Bassett, Loretta Devi...</td>\n",
              "      <td>Terry McMillan</td>\n",
              "      <td>124.0</td>\n",
              "      <td>[black, american, husband, wife, relationship,...</td>\n",
              "      <td>Waiting to Exhale</td>\n",
              "      <td>[Comedy, Drama, Romance]</td>\n",
              "      <td>1995</td>\n",
              "    </tr>\n",
              "    <tr>\n",
              "      <th>4</th>\n",
              "      <td>5</td>\n",
              "      <td>[Steve Martin, Diane Keaton, Martin Short, Kim...</td>\n",
              "      <td>Albert Hackett</td>\n",
              "      <td>106.0</td>\n",
              "      <td>[fatherhood, doberman, dog, mansion]</td>\n",
              "      <td>Father of the Bride Part II</td>\n",
              "      <td>[Comedy]</td>\n",
              "      <td>1995</td>\n",
              "    </tr>\n",
              "  </tbody>\n",
              "</table>\n",
              "</div>\n",
              "      <button class=\"colab-df-convert\" onclick=\"convertToInteractive('df-efc60d4e-c31e-4813-b677-5db2527cf430')\"\n",
              "              title=\"Convert this dataframe to an interactive table.\"\n",
              "              style=\"display:none;\">\n",
              "        \n",
              "  <svg xmlns=\"http://www.w3.org/2000/svg\" height=\"24px\"viewBox=\"0 0 24 24\"\n",
              "       width=\"24px\">\n",
              "    <path d=\"M0 0h24v24H0V0z\" fill=\"none\"/>\n",
              "    <path d=\"M18.56 5.44l.94 2.06.94-2.06 2.06-.94-2.06-.94-.94-2.06-.94 2.06-2.06.94zm-11 1L8.5 8.5l.94-2.06 2.06-.94-2.06-.94L8.5 2.5l-.94 2.06-2.06.94zm10 10l.94 2.06.94-2.06 2.06-.94-2.06-.94-.94-2.06-.94 2.06-2.06.94z\"/><path d=\"M17.41 7.96l-1.37-1.37c-.4-.4-.92-.59-1.43-.59-.52 0-1.04.2-1.43.59L10.3 9.45l-7.72 7.72c-.78.78-.78 2.05 0 2.83L4 21.41c.39.39.9.59 1.41.59.51 0 1.02-.2 1.41-.59l7.78-7.78 2.81-2.81c.8-.78.8-2.07 0-2.86zM5.41 20L4 18.59l7.72-7.72 1.47 1.35L5.41 20z\"/>\n",
              "  </svg>\n",
              "      </button>\n",
              "      \n",
              "  <style>\n",
              "    .colab-df-container {\n",
              "      display:flex;\n",
              "      flex-wrap:wrap;\n",
              "      gap: 12px;\n",
              "    }\n",
              "\n",
              "    .colab-df-convert {\n",
              "      background-color: #E8F0FE;\n",
              "      border: none;\n",
              "      border-radius: 50%;\n",
              "      cursor: pointer;\n",
              "      display: none;\n",
              "      fill: #1967D2;\n",
              "      height: 32px;\n",
              "      padding: 0 0 0 0;\n",
              "      width: 32px;\n",
              "    }\n",
              "\n",
              "    .colab-df-convert:hover {\n",
              "      background-color: #E2EBFA;\n",
              "      box-shadow: 0px 1px 2px rgba(60, 64, 67, 0.3), 0px 1px 3px 1px rgba(60, 64, 67, 0.15);\n",
              "      fill: #174EA6;\n",
              "    }\n",
              "\n",
              "    [theme=dark] .colab-df-convert {\n",
              "      background-color: #3B4455;\n",
              "      fill: #D2E3FC;\n",
              "    }\n",
              "\n",
              "    [theme=dark] .colab-df-convert:hover {\n",
              "      background-color: #434B5C;\n",
              "      box-shadow: 0px 1px 3px 1px rgba(0, 0, 0, 0.15);\n",
              "      filter: drop-shadow(0px 1px 2px rgba(0, 0, 0, 0.3));\n",
              "      fill: #FFFFFF;\n",
              "    }\n",
              "  </style>\n",
              "\n",
              "      <script>\n",
              "        const buttonEl =\n",
              "          document.querySelector('#df-efc60d4e-c31e-4813-b677-5db2527cf430 button.colab-df-convert');\n",
              "        buttonEl.style.display =\n",
              "          google.colab.kernel.accessAllowed ? 'block' : 'none';\n",
              "\n",
              "        async function convertToInteractive(key) {\n",
              "          const element = document.querySelector('#df-efc60d4e-c31e-4813-b677-5db2527cf430');\n",
              "          const dataTable =\n",
              "            await google.colab.kernel.invokeFunction('convertToInteractive',\n",
              "                                                     [key], {});\n",
              "          if (!dataTable) return;\n",
              "\n",
              "          const docLinkHtml = 'Like what you see? Visit the ' +\n",
              "            '<a target=\"_blank\" href=https://colab.research.google.com/notebooks/data_table.ipynb>data table notebook</a>'\n",
              "            + ' to learn more about interactive tables.';\n",
              "          element.innerHTML = '';\n",
              "          dataTable['output_type'] = 'display_data';\n",
              "          await google.colab.output.renderOutput(dataTable, element);\n",
              "          const docLink = document.createElement('div');\n",
              "          docLink.innerHTML = docLinkHtml;\n",
              "          element.appendChild(docLink);\n",
              "        }\n",
              "      </script>\n",
              "    </div>\n",
              "  </div>\n",
              "  "
            ]
          },
          "metadata": {},
          "execution_count": 21
        }
      ],
      "source": [
        "imdb_movies.head()"
      ]
    },
    {
      "cell_type": "code",
      "source": [
        "cols = ['movieId', 'title_cast', 'movie_director', 'runtime', 'plot_keywords', 'title', 'genres', 'year']\n",
        "\n",
        "imdb_movies.columns = cols"
      ],
      "metadata": {
        "id": "ZhpuMk8aLxMQ"
      },
      "execution_count": 22,
      "outputs": []
    },
    {
      "cell_type": "code",
      "source": [
        "from sklearn.feature_extraction.text import CountVectorizer\n"
      ],
      "metadata": {
        "id": "16b9SXCEMM0G"
      },
      "execution_count": 23,
      "outputs": []
    },
    {
      "cell_type": "code",
      "source": [
        "cv = CountVectorizer()\n",
        "count_vector=cv.fit_transform(' '.join(x) for x in imdb_movies.genres)\n",
        "count_vect_df = pd.DataFrame(count_vector.todense(), columns = cv.get_feature_names_out())\n",
        "count_vect_df.shape"
      ],
      "metadata": {
        "colab": {
          "base_uri": "https://localhost:8080/"
        },
        "id": "2qSsD9LxOilP",
        "outputId": "253319e9-f1db-4459-cef4-6c93fc16d1bb"
      },
      "execution_count": 24,
      "outputs": [
        {
          "output_type": "execute_result",
          "data": {
            "text/plain": [
              "(12632, 24)"
            ]
          },
          "metadata": {},
          "execution_count": 24
        }
      ]
    },
    {
      "cell_type": "code",
      "source": [
        "imdb_movies = pd.concat([imdb_movies,count_vect_df], axis=1)"
      ],
      "metadata": {
        "id": "itfASAJjPHPh"
      },
      "execution_count": 25,
      "outputs": []
    },
    {
      "cell_type": "code",
      "source": [
        "# plot = CountVectorizer()\n",
        "# plot_vector= plot.fit_transform(' '.join(x) for x in imdb_movies.plot_keywords)\n",
        "# plot_vect_df = pd.DataFrame(plot_vector.todense(), columns = plot.get_feature_names_out())\n",
        "\n",
        "# plot_vect_df.shape"
      ],
      "metadata": {
        "id": "008rR0e5PHMH"
      },
      "execution_count": 26,
      "outputs": []
    },
    {
      "cell_type": "code",
      "source": [
        "# imdb_movies = pd.concat([imdb_movies,plot_vect_df], axis=1)"
      ],
      "metadata": {
        "id": "04TTqa-tUjAi"
      },
      "execution_count": 27,
      "outputs": []
    },
    {
      "cell_type": "markdown",
      "metadata": {
        "id": "gEqm6HV4E8Wl"
      },
      "source": [
        "### segregate stars"
      ]
    },
    {
      "cell_type": "code",
      "source": [
        "imdb_movies.drop(['genres', 'plot_keywords'], axis=1, inplace=True)"
      ],
      "metadata": {
        "id": "D1xDdAJjU8MV"
      },
      "execution_count": 28,
      "outputs": []
    },
    {
      "cell_type": "code",
      "execution_count": 29,
      "metadata": {
        "id": "2KeIuwRVE7Lh"
      },
      "outputs": [],
      "source": [
        "def feature_importance(series):\n",
        "  items = aggregate(series)\n",
        "  frequency = {}\n",
        "\n",
        "  for item in items:\n",
        "    if item in frequency:\n",
        "      frequency[item] += 1\n",
        "    else:\n",
        "      frequency[item] = 1\n",
        "    \n",
        "  sorted_freq = {k: v for k, v in sorted(frequency.items(), reverse=True, key=lambda item: item[1])}\n",
        "\n",
        "  return sorted_freq"
      ]
    },
    {
      "cell_type": "code",
      "execution_count": 30,
      "metadata": {
        "id": "qNzzJlf3iu-q"
      },
      "outputs": [],
      "source": [
        "# engineer a_list_actors, b_list_actors, c_list_actors\n",
        "\n",
        "def classify(df, col, columns=[], threshold=[]):\n",
        "\n",
        "  most_featured = feature_importance(df[col])\n",
        "  most_featured_df = pd.DataFrame.from_dict(most_featured.items())\n",
        "  most_featured_df.columns = columns\n",
        "\n",
        "  print('feature extraction complete')\n",
        "\n",
        "  a_list_actors = most_featured_df[columns[0]][most_featured_df[columns[1]] >= threshold[0]].tolist()\n",
        "  b_list_actors = most_featured_df[columns[0]][(most_featured_df[columns[1]] >= threshold[1]) & (most_featured_df[columns[1]] < threshold[0])].tolist()\n",
        "  c_list_actors = most_featured_df[columns[0]][most_featured_df[columns[1]] < threshold[1]].tolist()\n",
        "\n",
        "  a_list_count = []\n",
        "  b_list_count = []\n",
        "  c_list_count = []\n",
        "\n",
        "  for row in df[col]:\n",
        "    a_counter = 0\n",
        "    b_counter = 0\n",
        "    c_counter = 0\n",
        "\n",
        "    for item in row:\n",
        "      if item in a_list_actors:\n",
        "        a_counter += 1\n",
        "      if item in b_list_actors:\n",
        "        b_counter += 1\n",
        "      if item in c_list_actors:\n",
        "        c_counter += 1\n",
        "\n",
        "    a_list_count.append(a_counter)\n",
        "    b_list_count.append(b_counter)\n",
        "    c_list_count.append(c_counter)\n",
        "  \n",
        "  return (a_list_count, b_list_count, c_list_count)"
      ]
    },
    {
      "cell_type": "code",
      "source": [
        "imdb_movies['movie_director'] = imdb_movies['movie_director'].apply(lambda x: x.split('|') )"
      ],
      "metadata": {
        "id": "LuFDKw7keAH3"
      },
      "execution_count": 31,
      "outputs": []
    },
    {
      "cell_type": "code",
      "execution_count": 32,
      "metadata": {
        "id": "a6JkZm2RkksO",
        "colab": {
          "base_uri": "https://localhost:8080/"
        },
        "outputId": "af0e0d42-1c3b-498c-f18b-af10e17844d2"
      },
      "outputs": [
        {
          "output_type": "stream",
          "name": "stdout",
          "text": [
            "feature extraction complete\n"
          ]
        }
      ],
      "source": [
        "a, b, c = classify(imdb_movies, 'title_cast', columns=['actor', 'appearance'], threshold=[30, 15])"
      ]
    },
    {
      "cell_type": "code",
      "source": [
        "d, e, f = classify(imdb_movies, 'movie_director', columns=['dir', 'jobs'], threshold=[5, 2])"
      ],
      "metadata": {
        "colab": {
          "base_uri": "https://localhost:8080/"
        },
        "id": "FfvZhbQEZQL0",
        "outputId": "823556bc-0ed9-4e59-c52a-7539a21a278e"
      },
      "execution_count": 33,
      "outputs": [
        {
          "output_type": "stream",
          "name": "stdout",
          "text": [
            "feature extraction complete\n"
          ]
        }
      ]
    },
    {
      "cell_type": "code",
      "execution_count": 34,
      "metadata": {
        "id": "MNYkvdCGqjI4"
      },
      "outputs": [],
      "source": [
        "imdb_movies['a_actors'], imdb_movies['b_actors'], imdb_movies['c_actors'] = a, b, c\n",
        "imdb_movies['a_directors'], imdb_movies['b_directors'], imdb_movies['c_directors'] = d, e, f"
      ]
    },
    {
      "cell_type": "code",
      "source": [
        "del a\n",
        "del b\n",
        "del c\n",
        "del d\n",
        "del e\n",
        "del f"
      ],
      "metadata": {
        "id": "wnBD45dsvMnj"
      },
      "execution_count": 35,
      "outputs": []
    },
    {
      "cell_type": "code",
      "source": [
        "imdb_movies.head()"
      ],
      "metadata": {
        "colab": {
          "base_uri": "https://localhost:8080/",
          "height": 734
        },
        "id": "anzEc4KF5xow",
        "outputId": "2d5cdf7d-ad84-44f5-8f33-661e93b53aa7"
      },
      "execution_count": 36,
      "outputs": [
        {
          "output_type": "execute_result",
          "data": {
            "text/plain": [
              "   movieId                                         title_cast  \\\n",
              "0        1  [Tom Hanks, Tim Allen, Don Rickles, Jim Varney...   \n",
              "1        2  [Robin Williams, Jonathan Hyde, Kirsten Dunst,...   \n",
              "2        3  [Walter Matthau, Jack Lemmon, Sophia Loren, An...   \n",
              "3        4  [Whitney Houston, Angela Bassett, Loretta Devi...   \n",
              "4        5  [Steve Martin, Diane Keaton, Martin Short, Kim...   \n",
              "\n",
              "          movie_director  runtime                        title   year  action  \\\n",
              "0        [John Lasseter]     81.0                    Toy Story   1995       0   \n",
              "1   [Jonathan Hensleigh]    104.0                      Jumanji   1995       0   \n",
              "2  [Mark Steven Johnson]    101.0             Grumpier Old Men   1995       0   \n",
              "3       [Terry McMillan]    124.0            Waiting to Exhale   1995       0   \n",
              "4       [Albert Hackett]    106.0  Father of the Bride Part II   1995       0   \n",
              "\n",
              "   adventure  animation  children  ...  sci  thriller  war  western  a_actors  \\\n",
              "0          1          1         1  ...    0         0    0        0         2   \n",
              "1          1          0         1  ...    0         0    0        0         3   \n",
              "2          0          0         0  ...    0         0    0        0         1   \n",
              "3          0          0         0  ...    0         0    0        0         0   \n",
              "4          0          0         0  ...    0         0    0        0         0   \n",
              "\n",
              "   b_actors  c_actors  a_directors  b_directors  c_directors  \n",
              "0         2        11            0            1            0  \n",
              "1         3         9            1            0            0  \n",
              "2         1        13            1            0            0  \n",
              "3         5        10            0            1            0  \n",
              "4         6         9            0            0            1  \n",
              "\n",
              "[5 rows x 35 columns]"
            ],
            "text/html": [
              "\n",
              "  <div id=\"df-fcd50606-5906-4ade-9c93-dafe87400450\">\n",
              "    <div class=\"colab-df-container\">\n",
              "      <div>\n",
              "<style scoped>\n",
              "    .dataframe tbody tr th:only-of-type {\n",
              "        vertical-align: middle;\n",
              "    }\n",
              "\n",
              "    .dataframe tbody tr th {\n",
              "        vertical-align: top;\n",
              "    }\n",
              "\n",
              "    .dataframe thead th {\n",
              "        text-align: right;\n",
              "    }\n",
              "</style>\n",
              "<table border=\"1\" class=\"dataframe\">\n",
              "  <thead>\n",
              "    <tr style=\"text-align: right;\">\n",
              "      <th></th>\n",
              "      <th>movieId</th>\n",
              "      <th>title_cast</th>\n",
              "      <th>movie_director</th>\n",
              "      <th>runtime</th>\n",
              "      <th>title</th>\n",
              "      <th>year</th>\n",
              "      <th>action</th>\n",
              "      <th>adventure</th>\n",
              "      <th>animation</th>\n",
              "      <th>children</th>\n",
              "      <th>...</th>\n",
              "      <th>sci</th>\n",
              "      <th>thriller</th>\n",
              "      <th>war</th>\n",
              "      <th>western</th>\n",
              "      <th>a_actors</th>\n",
              "      <th>b_actors</th>\n",
              "      <th>c_actors</th>\n",
              "      <th>a_directors</th>\n",
              "      <th>b_directors</th>\n",
              "      <th>c_directors</th>\n",
              "    </tr>\n",
              "  </thead>\n",
              "  <tbody>\n",
              "    <tr>\n",
              "      <th>0</th>\n",
              "      <td>1</td>\n",
              "      <td>[Tom Hanks, Tim Allen, Don Rickles, Jim Varney...</td>\n",
              "      <td>[John Lasseter]</td>\n",
              "      <td>81.0</td>\n",
              "      <td>Toy Story</td>\n",
              "      <td>1995</td>\n",
              "      <td>0</td>\n",
              "      <td>1</td>\n",
              "      <td>1</td>\n",
              "      <td>1</td>\n",
              "      <td>...</td>\n",
              "      <td>0</td>\n",
              "      <td>0</td>\n",
              "      <td>0</td>\n",
              "      <td>0</td>\n",
              "      <td>2</td>\n",
              "      <td>2</td>\n",
              "      <td>11</td>\n",
              "      <td>0</td>\n",
              "      <td>1</td>\n",
              "      <td>0</td>\n",
              "    </tr>\n",
              "    <tr>\n",
              "      <th>1</th>\n",
              "      <td>2</td>\n",
              "      <td>[Robin Williams, Jonathan Hyde, Kirsten Dunst,...</td>\n",
              "      <td>[Jonathan Hensleigh]</td>\n",
              "      <td>104.0</td>\n",
              "      <td>Jumanji</td>\n",
              "      <td>1995</td>\n",
              "      <td>0</td>\n",
              "      <td>1</td>\n",
              "      <td>0</td>\n",
              "      <td>1</td>\n",
              "      <td>...</td>\n",
              "      <td>0</td>\n",
              "      <td>0</td>\n",
              "      <td>0</td>\n",
              "      <td>0</td>\n",
              "      <td>3</td>\n",
              "      <td>3</td>\n",
              "      <td>9</td>\n",
              "      <td>1</td>\n",
              "      <td>0</td>\n",
              "      <td>0</td>\n",
              "    </tr>\n",
              "    <tr>\n",
              "      <th>2</th>\n",
              "      <td>3</td>\n",
              "      <td>[Walter Matthau, Jack Lemmon, Sophia Loren, An...</td>\n",
              "      <td>[Mark Steven Johnson]</td>\n",
              "      <td>101.0</td>\n",
              "      <td>Grumpier Old Men</td>\n",
              "      <td>1995</td>\n",
              "      <td>0</td>\n",
              "      <td>0</td>\n",
              "      <td>0</td>\n",
              "      <td>0</td>\n",
              "      <td>...</td>\n",
              "      <td>0</td>\n",
              "      <td>0</td>\n",
              "      <td>0</td>\n",
              "      <td>0</td>\n",
              "      <td>1</td>\n",
              "      <td>1</td>\n",
              "      <td>13</td>\n",
              "      <td>1</td>\n",
              "      <td>0</td>\n",
              "      <td>0</td>\n",
              "    </tr>\n",
              "    <tr>\n",
              "      <th>3</th>\n",
              "      <td>4</td>\n",
              "      <td>[Whitney Houston, Angela Bassett, Loretta Devi...</td>\n",
              "      <td>[Terry McMillan]</td>\n",
              "      <td>124.0</td>\n",
              "      <td>Waiting to Exhale</td>\n",
              "      <td>1995</td>\n",
              "      <td>0</td>\n",
              "      <td>0</td>\n",
              "      <td>0</td>\n",
              "      <td>0</td>\n",
              "      <td>...</td>\n",
              "      <td>0</td>\n",
              "      <td>0</td>\n",
              "      <td>0</td>\n",
              "      <td>0</td>\n",
              "      <td>0</td>\n",
              "      <td>5</td>\n",
              "      <td>10</td>\n",
              "      <td>0</td>\n",
              "      <td>1</td>\n",
              "      <td>0</td>\n",
              "    </tr>\n",
              "    <tr>\n",
              "      <th>4</th>\n",
              "      <td>5</td>\n",
              "      <td>[Steve Martin, Diane Keaton, Martin Short, Kim...</td>\n",
              "      <td>[Albert Hackett]</td>\n",
              "      <td>106.0</td>\n",
              "      <td>Father of the Bride Part II</td>\n",
              "      <td>1995</td>\n",
              "      <td>0</td>\n",
              "      <td>0</td>\n",
              "      <td>0</td>\n",
              "      <td>0</td>\n",
              "      <td>...</td>\n",
              "      <td>0</td>\n",
              "      <td>0</td>\n",
              "      <td>0</td>\n",
              "      <td>0</td>\n",
              "      <td>0</td>\n",
              "      <td>6</td>\n",
              "      <td>9</td>\n",
              "      <td>0</td>\n",
              "      <td>0</td>\n",
              "      <td>1</td>\n",
              "    </tr>\n",
              "  </tbody>\n",
              "</table>\n",
              "<p>5 rows × 35 columns</p>\n",
              "</div>\n",
              "      <button class=\"colab-df-convert\" onclick=\"convertToInteractive('df-fcd50606-5906-4ade-9c93-dafe87400450')\"\n",
              "              title=\"Convert this dataframe to an interactive table.\"\n",
              "              style=\"display:none;\">\n",
              "        \n",
              "  <svg xmlns=\"http://www.w3.org/2000/svg\" height=\"24px\"viewBox=\"0 0 24 24\"\n",
              "       width=\"24px\">\n",
              "    <path d=\"M0 0h24v24H0V0z\" fill=\"none\"/>\n",
              "    <path d=\"M18.56 5.44l.94 2.06.94-2.06 2.06-.94-2.06-.94-.94-2.06-.94 2.06-2.06.94zm-11 1L8.5 8.5l.94-2.06 2.06-.94-2.06-.94L8.5 2.5l-.94 2.06-2.06.94zm10 10l.94 2.06.94-2.06 2.06-.94-2.06-.94-.94-2.06-.94 2.06-2.06.94z\"/><path d=\"M17.41 7.96l-1.37-1.37c-.4-.4-.92-.59-1.43-.59-.52 0-1.04.2-1.43.59L10.3 9.45l-7.72 7.72c-.78.78-.78 2.05 0 2.83L4 21.41c.39.39.9.59 1.41.59.51 0 1.02-.2 1.41-.59l7.78-7.78 2.81-2.81c.8-.78.8-2.07 0-2.86zM5.41 20L4 18.59l7.72-7.72 1.47 1.35L5.41 20z\"/>\n",
              "  </svg>\n",
              "      </button>\n",
              "      \n",
              "  <style>\n",
              "    .colab-df-container {\n",
              "      display:flex;\n",
              "      flex-wrap:wrap;\n",
              "      gap: 12px;\n",
              "    }\n",
              "\n",
              "    .colab-df-convert {\n",
              "      background-color: #E8F0FE;\n",
              "      border: none;\n",
              "      border-radius: 50%;\n",
              "      cursor: pointer;\n",
              "      display: none;\n",
              "      fill: #1967D2;\n",
              "      height: 32px;\n",
              "      padding: 0 0 0 0;\n",
              "      width: 32px;\n",
              "    }\n",
              "\n",
              "    .colab-df-convert:hover {\n",
              "      background-color: #E2EBFA;\n",
              "      box-shadow: 0px 1px 2px rgba(60, 64, 67, 0.3), 0px 1px 3px 1px rgba(60, 64, 67, 0.15);\n",
              "      fill: #174EA6;\n",
              "    }\n",
              "\n",
              "    [theme=dark] .colab-df-convert {\n",
              "      background-color: #3B4455;\n",
              "      fill: #D2E3FC;\n",
              "    }\n",
              "\n",
              "    [theme=dark] .colab-df-convert:hover {\n",
              "      background-color: #434B5C;\n",
              "      box-shadow: 0px 1px 3px 1px rgba(0, 0, 0, 0.15);\n",
              "      filter: drop-shadow(0px 1px 2px rgba(0, 0, 0, 0.3));\n",
              "      fill: #FFFFFF;\n",
              "    }\n",
              "  </style>\n",
              "\n",
              "      <script>\n",
              "        const buttonEl =\n",
              "          document.querySelector('#df-fcd50606-5906-4ade-9c93-dafe87400450 button.colab-df-convert');\n",
              "        buttonEl.style.display =\n",
              "          google.colab.kernel.accessAllowed ? 'block' : 'none';\n",
              "\n",
              "        async function convertToInteractive(key) {\n",
              "          const element = document.querySelector('#df-fcd50606-5906-4ade-9c93-dafe87400450');\n",
              "          const dataTable =\n",
              "            await google.colab.kernel.invokeFunction('convertToInteractive',\n",
              "                                                     [key], {});\n",
              "          if (!dataTable) return;\n",
              "\n",
              "          const docLinkHtml = 'Like what you see? Visit the ' +\n",
              "            '<a target=\"_blank\" href=https://colab.research.google.com/notebooks/data_table.ipynb>data table notebook</a>'\n",
              "            + ' to learn more about interactive tables.';\n",
              "          element.innerHTML = '';\n",
              "          dataTable['output_type'] = 'display_data';\n",
              "          await google.colab.output.renderOutput(dataTable, element);\n",
              "          const docLink = document.createElement('div');\n",
              "          docLink.innerHTML = docLinkHtml;\n",
              "          element.appendChild(docLink);\n",
              "        }\n",
              "      </script>\n",
              "    </div>\n",
              "  </div>\n",
              "  "
            ]
          },
          "metadata": {},
          "execution_count": 36
        }
      ]
    },
    {
      "cell_type": "code",
      "source": [
        "drop_cols = ['title_cast', 'movie_director', 'title']\n",
        "\n",
        "imdb_movies.drop(drop_cols, axis=1, inplace=True)"
      ],
      "metadata": {
        "id": "m2BlDOTy50YX"
      },
      "execution_count": 37,
      "outputs": []
    },
    {
      "cell_type": "code",
      "source": [
        "imdb_movies.year = imdb_movies.year.apply(lambda x: x.strip())\n",
        "imdb_movies.year = imdb_movies.year.apply(lambda x: int(x) if x.isnumeric() else np.NaN)"
      ],
      "metadata": {
        "id": "RN9QzsEi7SO0"
      },
      "execution_count": 38,
      "outputs": []
    },
    {
      "cell_type": "code",
      "source": [
        "imdb_movies = convert_columns(imdb_movies)"
      ],
      "metadata": {
        "id": "XBRh1GIm1f2D"
      },
      "execution_count": 39,
      "outputs": []
    },
    {
      "cell_type": "code",
      "source": [
        "def stringify(num):\n",
        "  num = str(num)\n",
        "  return num"
      ],
      "metadata": {
        "id": "eTj8Dtp96K1l"
      },
      "execution_count": 40,
      "outputs": []
    },
    {
      "cell_type": "code",
      "source": [
        "train['userId'] = train['userId'].apply(stringify)\n",
        "train['movieId'] = train['movieId'].apply(stringify)"
      ],
      "metadata": {
        "id": "1FbXXiB1-5IW"
      },
      "execution_count": 41,
      "outputs": []
    },
    {
      "cell_type": "code",
      "source": [
        "train['Id'] = train.apply(lambda x: x.userId + '_' + x.movieId, axis=1)"
      ],
      "metadata": {
        "id": "cTBzPL2m_Ys8"
      },
      "execution_count": 42,
      "outputs": []
    },
    {
      "cell_type": "code",
      "source": [
        "train_drop = ['timestamp', 'userId']\n",
        "\n",
        "train.drop(train_drop, axis=1, inplace=True)"
      ],
      "metadata": {
        "id": "V2UEWU3oAxyA"
      },
      "execution_count": 43,
      "outputs": []
    },
    {
      "cell_type": "code",
      "source": [
        "train.head()"
      ],
      "metadata": {
        "colab": {
          "base_uri": "https://localhost:8080/",
          "height": 206
        },
        "id": "aPhZxr9aBJ0S",
        "outputId": "425264a0-3a60-4988-ac83-9d7caf01ac07"
      },
      "execution_count": 44,
      "outputs": [
        {
          "output_type": "execute_result",
          "data": {
            "text/plain": [
              "  movieId  rating            Id\n",
              "0   57669     4.0    5163_57669\n",
              "1       5     4.5      106343_5\n",
              "2    5459     5.0   146790_5459\n",
              "3   32296     2.0  106362_32296\n",
              "4     366     3.0      9041_366"
            ],
            "text/html": [
              "\n",
              "  <div id=\"df-c6b3d074-6176-42fd-91d9-be6bf13b94e7\">\n",
              "    <div class=\"colab-df-container\">\n",
              "      <div>\n",
              "<style scoped>\n",
              "    .dataframe tbody tr th:only-of-type {\n",
              "        vertical-align: middle;\n",
              "    }\n",
              "\n",
              "    .dataframe tbody tr th {\n",
              "        vertical-align: top;\n",
              "    }\n",
              "\n",
              "    .dataframe thead th {\n",
              "        text-align: right;\n",
              "    }\n",
              "</style>\n",
              "<table border=\"1\" class=\"dataframe\">\n",
              "  <thead>\n",
              "    <tr style=\"text-align: right;\">\n",
              "      <th></th>\n",
              "      <th>movieId</th>\n",
              "      <th>rating</th>\n",
              "      <th>Id</th>\n",
              "    </tr>\n",
              "  </thead>\n",
              "  <tbody>\n",
              "    <tr>\n",
              "      <th>0</th>\n",
              "      <td>57669</td>\n",
              "      <td>4.0</td>\n",
              "      <td>5163_57669</td>\n",
              "    </tr>\n",
              "    <tr>\n",
              "      <th>1</th>\n",
              "      <td>5</td>\n",
              "      <td>4.5</td>\n",
              "      <td>106343_5</td>\n",
              "    </tr>\n",
              "    <tr>\n",
              "      <th>2</th>\n",
              "      <td>5459</td>\n",
              "      <td>5.0</td>\n",
              "      <td>146790_5459</td>\n",
              "    </tr>\n",
              "    <tr>\n",
              "      <th>3</th>\n",
              "      <td>32296</td>\n",
              "      <td>2.0</td>\n",
              "      <td>106362_32296</td>\n",
              "    </tr>\n",
              "    <tr>\n",
              "      <th>4</th>\n",
              "      <td>366</td>\n",
              "      <td>3.0</td>\n",
              "      <td>9041_366</td>\n",
              "    </tr>\n",
              "  </tbody>\n",
              "</table>\n",
              "</div>\n",
              "      <button class=\"colab-df-convert\" onclick=\"convertToInteractive('df-c6b3d074-6176-42fd-91d9-be6bf13b94e7')\"\n",
              "              title=\"Convert this dataframe to an interactive table.\"\n",
              "              style=\"display:none;\">\n",
              "        \n",
              "  <svg xmlns=\"http://www.w3.org/2000/svg\" height=\"24px\"viewBox=\"0 0 24 24\"\n",
              "       width=\"24px\">\n",
              "    <path d=\"M0 0h24v24H0V0z\" fill=\"none\"/>\n",
              "    <path d=\"M18.56 5.44l.94 2.06.94-2.06 2.06-.94-2.06-.94-.94-2.06-.94 2.06-2.06.94zm-11 1L8.5 8.5l.94-2.06 2.06-.94-2.06-.94L8.5 2.5l-.94 2.06-2.06.94zm10 10l.94 2.06.94-2.06 2.06-.94-2.06-.94-.94-2.06-.94 2.06-2.06.94z\"/><path d=\"M17.41 7.96l-1.37-1.37c-.4-.4-.92-.59-1.43-.59-.52 0-1.04.2-1.43.59L10.3 9.45l-7.72 7.72c-.78.78-.78 2.05 0 2.83L4 21.41c.39.39.9.59 1.41.59.51 0 1.02-.2 1.41-.59l7.78-7.78 2.81-2.81c.8-.78.8-2.07 0-2.86zM5.41 20L4 18.59l7.72-7.72 1.47 1.35L5.41 20z\"/>\n",
              "  </svg>\n",
              "      </button>\n",
              "      \n",
              "  <style>\n",
              "    .colab-df-container {\n",
              "      display:flex;\n",
              "      flex-wrap:wrap;\n",
              "      gap: 12px;\n",
              "    }\n",
              "\n",
              "    .colab-df-convert {\n",
              "      background-color: #E8F0FE;\n",
              "      border: none;\n",
              "      border-radius: 50%;\n",
              "      cursor: pointer;\n",
              "      display: none;\n",
              "      fill: #1967D2;\n",
              "      height: 32px;\n",
              "      padding: 0 0 0 0;\n",
              "      width: 32px;\n",
              "    }\n",
              "\n",
              "    .colab-df-convert:hover {\n",
              "      background-color: #E2EBFA;\n",
              "      box-shadow: 0px 1px 2px rgba(60, 64, 67, 0.3), 0px 1px 3px 1px rgba(60, 64, 67, 0.15);\n",
              "      fill: #174EA6;\n",
              "    }\n",
              "\n",
              "    [theme=dark] .colab-df-convert {\n",
              "      background-color: #3B4455;\n",
              "      fill: #D2E3FC;\n",
              "    }\n",
              "\n",
              "    [theme=dark] .colab-df-convert:hover {\n",
              "      background-color: #434B5C;\n",
              "      box-shadow: 0px 1px 3px 1px rgba(0, 0, 0, 0.15);\n",
              "      filter: drop-shadow(0px 1px 2px rgba(0, 0, 0, 0.3));\n",
              "      fill: #FFFFFF;\n",
              "    }\n",
              "  </style>\n",
              "\n",
              "      <script>\n",
              "        const buttonEl =\n",
              "          document.querySelector('#df-c6b3d074-6176-42fd-91d9-be6bf13b94e7 button.colab-df-convert');\n",
              "        buttonEl.style.display =\n",
              "          google.colab.kernel.accessAllowed ? 'block' : 'none';\n",
              "\n",
              "        async function convertToInteractive(key) {\n",
              "          const element = document.querySelector('#df-c6b3d074-6176-42fd-91d9-be6bf13b94e7');\n",
              "          const dataTable =\n",
              "            await google.colab.kernel.invokeFunction('convertToInteractive',\n",
              "                                                     [key], {});\n",
              "          if (!dataTable) return;\n",
              "\n",
              "          const docLinkHtml = 'Like what you see? Visit the ' +\n",
              "            '<a target=\"_blank\" href=https://colab.research.google.com/notebooks/data_table.ipynb>data table notebook</a>'\n",
              "            + ' to learn more about interactive tables.';\n",
              "          element.innerHTML = '';\n",
              "          dataTable['output_type'] = 'display_data';\n",
              "          await google.colab.output.renderOutput(dataTable, element);\n",
              "          const docLink = document.createElement('div');\n",
              "          docLink.innerHTML = docLinkHtml;\n",
              "          element.appendChild(docLink);\n",
              "        }\n",
              "      </script>\n",
              "    </div>\n",
              "  </div>\n",
              "  "
            ]
          },
          "metadata": {},
          "execution_count": 44
        }
      ]
    },
    {
      "cell_type": "markdown",
      "source": [
        "## Merge IMDB Copy and Train"
      ],
      "metadata": {
        "id": "h6nLGP0zBROB"
      }
    },
    {
      "cell_type": "code",
      "source": [
        "# # making merger\n",
        "train['movieId'] = train['movieId'].astype('int32')\n",
        "full_data = train.merge(imdb_movies, how='left', left_on='movieId', right_on='movieId')"
      ],
      "metadata": {
        "id": "bzRCjN58BLJk"
      },
      "execution_count": 45,
      "outputs": []
    },
    {
      "cell_type": "code",
      "source": [
        "full_data.head()"
      ],
      "metadata": {
        "colab": {
          "base_uri": "https://localhost:8080/",
          "height": 300
        },
        "id": "H5J23-KiD79h",
        "outputId": "760ff1fb-310a-403e-e4cc-3184535938ac"
      },
      "execution_count": 46,
      "outputs": [
        {
          "output_type": "execute_result",
          "data": {
            "text/plain": [
              "   movieId  rating            Id  runtime    year  action  adventure  \\\n",
              "0    57669     4.0    5163_57669    107.0  2008.0     0.0        0.0   \n",
              "1        5     4.5      106343_5    106.0  1995.0     0.0        0.0   \n",
              "2     5459     5.0   146790_5459     88.0  2002.0     1.0        0.0   \n",
              "3    32296     2.0  106362_32296    115.0  2005.0     0.0        1.0   \n",
              "4      366     3.0      9041_366    112.0  1994.0     0.0        0.0   \n",
              "\n",
              "   animation  children  comedy  ...  sci  thriller  war  western  a_actors  \\\n",
              "0        0.0       0.0     1.0  ...  0.0       1.0  0.0      0.0       2.0   \n",
              "1        0.0       0.0     1.0  ...  0.0       0.0  0.0      0.0       0.0   \n",
              "2        0.0       0.0     1.0  ...  1.0       0.0  0.0      0.0       2.0   \n",
              "3        0.0       0.0     1.0  ...  0.0       0.0  0.0      0.0       1.0   \n",
              "4        0.0       0.0     0.0  ...  0.0       1.0  0.0      0.0       0.0   \n",
              "\n",
              "   b_actors  c_actors  a_directors  b_directors  c_directors  \n",
              "0       1.0      12.0          0.0          1.0          0.0  \n",
              "1       6.0       9.0          0.0          0.0          1.0  \n",
              "2       8.0       5.0          0.0          1.0          0.0  \n",
              "3       5.0       9.0          1.0          0.0          0.0  \n",
              "4       1.0      14.0          1.0          0.0          0.0  \n",
              "\n",
              "[5 rows x 34 columns]"
            ],
            "text/html": [
              "\n",
              "  <div id=\"df-c080df0e-6bbf-495c-bc16-962875c628a4\">\n",
              "    <div class=\"colab-df-container\">\n",
              "      <div>\n",
              "<style scoped>\n",
              "    .dataframe tbody tr th:only-of-type {\n",
              "        vertical-align: middle;\n",
              "    }\n",
              "\n",
              "    .dataframe tbody tr th {\n",
              "        vertical-align: top;\n",
              "    }\n",
              "\n",
              "    .dataframe thead th {\n",
              "        text-align: right;\n",
              "    }\n",
              "</style>\n",
              "<table border=\"1\" class=\"dataframe\">\n",
              "  <thead>\n",
              "    <tr style=\"text-align: right;\">\n",
              "      <th></th>\n",
              "      <th>movieId</th>\n",
              "      <th>rating</th>\n",
              "      <th>Id</th>\n",
              "      <th>runtime</th>\n",
              "      <th>year</th>\n",
              "      <th>action</th>\n",
              "      <th>adventure</th>\n",
              "      <th>animation</th>\n",
              "      <th>children</th>\n",
              "      <th>comedy</th>\n",
              "      <th>...</th>\n",
              "      <th>sci</th>\n",
              "      <th>thriller</th>\n",
              "      <th>war</th>\n",
              "      <th>western</th>\n",
              "      <th>a_actors</th>\n",
              "      <th>b_actors</th>\n",
              "      <th>c_actors</th>\n",
              "      <th>a_directors</th>\n",
              "      <th>b_directors</th>\n",
              "      <th>c_directors</th>\n",
              "    </tr>\n",
              "  </thead>\n",
              "  <tbody>\n",
              "    <tr>\n",
              "      <th>0</th>\n",
              "      <td>57669</td>\n",
              "      <td>4.0</td>\n",
              "      <td>5163_57669</td>\n",
              "      <td>107.0</td>\n",
              "      <td>2008.0</td>\n",
              "      <td>0.0</td>\n",
              "      <td>0.0</td>\n",
              "      <td>0.0</td>\n",
              "      <td>0.0</td>\n",
              "      <td>1.0</td>\n",
              "      <td>...</td>\n",
              "      <td>0.0</td>\n",
              "      <td>1.0</td>\n",
              "      <td>0.0</td>\n",
              "      <td>0.0</td>\n",
              "      <td>2.0</td>\n",
              "      <td>1.0</td>\n",
              "      <td>12.0</td>\n",
              "      <td>0.0</td>\n",
              "      <td>1.0</td>\n",
              "      <td>0.0</td>\n",
              "    </tr>\n",
              "    <tr>\n",
              "      <th>1</th>\n",
              "      <td>5</td>\n",
              "      <td>4.5</td>\n",
              "      <td>106343_5</td>\n",
              "      <td>106.0</td>\n",
              "      <td>1995.0</td>\n",
              "      <td>0.0</td>\n",
              "      <td>0.0</td>\n",
              "      <td>0.0</td>\n",
              "      <td>0.0</td>\n",
              "      <td>1.0</td>\n",
              "      <td>...</td>\n",
              "      <td>0.0</td>\n",
              "      <td>0.0</td>\n",
              "      <td>0.0</td>\n",
              "      <td>0.0</td>\n",
              "      <td>0.0</td>\n",
              "      <td>6.0</td>\n",
              "      <td>9.0</td>\n",
              "      <td>0.0</td>\n",
              "      <td>0.0</td>\n",
              "      <td>1.0</td>\n",
              "    </tr>\n",
              "    <tr>\n",
              "      <th>2</th>\n",
              "      <td>5459</td>\n",
              "      <td>5.0</td>\n",
              "      <td>146790_5459</td>\n",
              "      <td>88.0</td>\n",
              "      <td>2002.0</td>\n",
              "      <td>1.0</td>\n",
              "      <td>0.0</td>\n",
              "      <td>0.0</td>\n",
              "      <td>0.0</td>\n",
              "      <td>1.0</td>\n",
              "      <td>...</td>\n",
              "      <td>1.0</td>\n",
              "      <td>0.0</td>\n",
              "      <td>0.0</td>\n",
              "      <td>0.0</td>\n",
              "      <td>2.0</td>\n",
              "      <td>8.0</td>\n",
              "      <td>5.0</td>\n",
              "      <td>0.0</td>\n",
              "      <td>1.0</td>\n",
              "      <td>0.0</td>\n",
              "    </tr>\n",
              "    <tr>\n",
              "      <th>3</th>\n",
              "      <td>32296</td>\n",
              "      <td>2.0</td>\n",
              "      <td>106362_32296</td>\n",
              "      <td>115.0</td>\n",
              "      <td>2005.0</td>\n",
              "      <td>0.0</td>\n",
              "      <td>1.0</td>\n",
              "      <td>0.0</td>\n",
              "      <td>0.0</td>\n",
              "      <td>1.0</td>\n",
              "      <td>...</td>\n",
              "      <td>0.0</td>\n",
              "      <td>0.0</td>\n",
              "      <td>0.0</td>\n",
              "      <td>0.0</td>\n",
              "      <td>1.0</td>\n",
              "      <td>5.0</td>\n",
              "      <td>9.0</td>\n",
              "      <td>1.0</td>\n",
              "      <td>0.0</td>\n",
              "      <td>0.0</td>\n",
              "    </tr>\n",
              "    <tr>\n",
              "      <th>4</th>\n",
              "      <td>366</td>\n",
              "      <td>3.0</td>\n",
              "      <td>9041_366</td>\n",
              "      <td>112.0</td>\n",
              "      <td>1994.0</td>\n",
              "      <td>0.0</td>\n",
              "      <td>0.0</td>\n",
              "      <td>0.0</td>\n",
              "      <td>0.0</td>\n",
              "      <td>0.0</td>\n",
              "      <td>...</td>\n",
              "      <td>0.0</td>\n",
              "      <td>1.0</td>\n",
              "      <td>0.0</td>\n",
              "      <td>0.0</td>\n",
              "      <td>0.0</td>\n",
              "      <td>1.0</td>\n",
              "      <td>14.0</td>\n",
              "      <td>1.0</td>\n",
              "      <td>0.0</td>\n",
              "      <td>0.0</td>\n",
              "    </tr>\n",
              "  </tbody>\n",
              "</table>\n",
              "<p>5 rows × 34 columns</p>\n",
              "</div>\n",
              "      <button class=\"colab-df-convert\" onclick=\"convertToInteractive('df-c080df0e-6bbf-495c-bc16-962875c628a4')\"\n",
              "              title=\"Convert this dataframe to an interactive table.\"\n",
              "              style=\"display:none;\">\n",
              "        \n",
              "  <svg xmlns=\"http://www.w3.org/2000/svg\" height=\"24px\"viewBox=\"0 0 24 24\"\n",
              "       width=\"24px\">\n",
              "    <path d=\"M0 0h24v24H0V0z\" fill=\"none\"/>\n",
              "    <path d=\"M18.56 5.44l.94 2.06.94-2.06 2.06-.94-2.06-.94-.94-2.06-.94 2.06-2.06.94zm-11 1L8.5 8.5l.94-2.06 2.06-.94-2.06-.94L8.5 2.5l-.94 2.06-2.06.94zm10 10l.94 2.06.94-2.06 2.06-.94-2.06-.94-.94-2.06-.94 2.06-2.06.94z\"/><path d=\"M17.41 7.96l-1.37-1.37c-.4-.4-.92-.59-1.43-.59-.52 0-1.04.2-1.43.59L10.3 9.45l-7.72 7.72c-.78.78-.78 2.05 0 2.83L4 21.41c.39.39.9.59 1.41.59.51 0 1.02-.2 1.41-.59l7.78-7.78 2.81-2.81c.8-.78.8-2.07 0-2.86zM5.41 20L4 18.59l7.72-7.72 1.47 1.35L5.41 20z\"/>\n",
              "  </svg>\n",
              "      </button>\n",
              "      \n",
              "  <style>\n",
              "    .colab-df-container {\n",
              "      display:flex;\n",
              "      flex-wrap:wrap;\n",
              "      gap: 12px;\n",
              "    }\n",
              "\n",
              "    .colab-df-convert {\n",
              "      background-color: #E8F0FE;\n",
              "      border: none;\n",
              "      border-radius: 50%;\n",
              "      cursor: pointer;\n",
              "      display: none;\n",
              "      fill: #1967D2;\n",
              "      height: 32px;\n",
              "      padding: 0 0 0 0;\n",
              "      width: 32px;\n",
              "    }\n",
              "\n",
              "    .colab-df-convert:hover {\n",
              "      background-color: #E2EBFA;\n",
              "      box-shadow: 0px 1px 2px rgba(60, 64, 67, 0.3), 0px 1px 3px 1px rgba(60, 64, 67, 0.15);\n",
              "      fill: #174EA6;\n",
              "    }\n",
              "\n",
              "    [theme=dark] .colab-df-convert {\n",
              "      background-color: #3B4455;\n",
              "      fill: #D2E3FC;\n",
              "    }\n",
              "\n",
              "    [theme=dark] .colab-df-convert:hover {\n",
              "      background-color: #434B5C;\n",
              "      box-shadow: 0px 1px 3px 1px rgba(0, 0, 0, 0.15);\n",
              "      filter: drop-shadow(0px 1px 2px rgba(0, 0, 0, 0.3));\n",
              "      fill: #FFFFFF;\n",
              "    }\n",
              "  </style>\n",
              "\n",
              "      <script>\n",
              "        const buttonEl =\n",
              "          document.querySelector('#df-c080df0e-6bbf-495c-bc16-962875c628a4 button.colab-df-convert');\n",
              "        buttonEl.style.display =\n",
              "          google.colab.kernel.accessAllowed ? 'block' : 'none';\n",
              "\n",
              "        async function convertToInteractive(key) {\n",
              "          const element = document.querySelector('#df-c080df0e-6bbf-495c-bc16-962875c628a4');\n",
              "          const dataTable =\n",
              "            await google.colab.kernel.invokeFunction('convertToInteractive',\n",
              "                                                     [key], {});\n",
              "          if (!dataTable) return;\n",
              "\n",
              "          const docLinkHtml = 'Like what you see? Visit the ' +\n",
              "            '<a target=\"_blank\" href=https://colab.research.google.com/notebooks/data_table.ipynb>data table notebook</a>'\n",
              "            + ' to learn more about interactive tables.';\n",
              "          element.innerHTML = '';\n",
              "          dataTable['output_type'] = 'display_data';\n",
              "          await google.colab.output.renderOutput(dataTable, element);\n",
              "          const docLink = document.createElement('div');\n",
              "          docLink.innerHTML = docLinkHtml;\n",
              "          element.appendChild(docLink);\n",
              "        }\n",
              "      </script>\n",
              "    </div>\n",
              "  </div>\n",
              "  "
            ]
          },
          "metadata": {},
          "execution_count": 46
        }
      ]
    },
    {
      "cell_type": "code",
      "source": [
        "full_data = full_data.drop('movieId', axis=1)"
      ],
      "metadata": {
        "id": "Z-5Ar1xLKCf3"
      },
      "execution_count": 47,
      "outputs": []
    },
    {
      "cell_type": "code",
      "source": [
        "full_data.shape"
      ],
      "metadata": {
        "colab": {
          "base_uri": "https://localhost:8080/"
        },
        "id": "J4GFFCuRLNiv",
        "outputId": "bf56774c-f2f2-455e-9a3f-06ac51f17b39"
      },
      "execution_count": 48,
      "outputs": [
        {
          "output_type": "execute_result",
          "data": {
            "text/plain": [
              "(10000038, 33)"
            ]
          },
          "metadata": {},
          "execution_count": 48
        }
      ]
    },
    {
      "cell_type": "code",
      "source": [
        "del train\n",
        "del imdb_movies"
      ],
      "metadata": {
        "id": "6DVauYcFy7Ac"
      },
      "execution_count": 49,
      "outputs": []
    },
    {
      "cell_type": "code",
      "source": [
        "cols = list(full_data.isnull().sum()[full_data.isnull().sum()>1].index)"
      ],
      "metadata": {
        "id": "ESN7IxjpMPe5"
      },
      "execution_count": 50,
      "outputs": []
    },
    {
      "cell_type": "code",
      "source": [
        "def fill_na(df, cols=[]):\n",
        "  for col in cols:\n",
        "    df[col] = df[col].fillna(df[col].median())\n",
        "  \n",
        "  return df"
      ],
      "metadata": {
        "id": "eT8MyAIKMbD7"
      },
      "execution_count": 51,
      "outputs": []
    },
    {
      "cell_type": "code",
      "source": [
        "full_data = fill_na(full_data, cols=cols)"
      ],
      "metadata": {
        "id": "rsqB2-9cNExM"
      },
      "execution_count": 52,
      "outputs": []
    },
    {
      "cell_type": "code",
      "source": [
        "from sklearn.preprocessing import StandardScaler\n",
        "from sklearn.decomposition import PCA\n",
        "from sklearn.model_selection import train_test_split\n",
        "from sklearn.ensemble import RandomForestRegressor\n",
        "from lightgbm import LGBMRegressor\n",
        "from xgboost import XGBRegressor "
      ],
      "metadata": {
        "id": "6Ttu15VqMW3m"
      },
      "execution_count": 53,
      "outputs": []
    },
    {
      "cell_type": "code",
      "source": [
        "X = full_data.drop(['rating', 'Id'], axis=1)\n",
        "y = full_data['rating']"
      ],
      "metadata": {
        "id": "87osKHjnPfjt"
      },
      "execution_count": 54,
      "outputs": []
    },
    {
      "cell_type": "markdown",
      "source": [
        ""
      ],
      "metadata": {
        "id": "BHBgICwrOdd8"
      }
    },
    {
      "cell_type": "code",
      "source": [
        "scaler = StandardScaler()"
      ],
      "metadata": {
        "id": "WdQkk-PbPqsG"
      },
      "execution_count": 55,
      "outputs": []
    },
    {
      "cell_type": "code",
      "source": [
        "X_scaled = scaler.fit_transform(X)"
      ],
      "metadata": {
        "id": "YIF_0t-QPuok",
        "colab": {
          "base_uri": "https://localhost:8080/",
          "height": 165
        },
        "outputId": "2996322b-abac-42aa-8d5c-222e011785b9"
      },
      "execution_count": 1,
      "outputs": [
        {
          "output_type": "error",
          "ename": "NameError",
          "evalue": "ignored",
          "traceback": [
            "\u001b[0;31m---------------------------------------------------------------------------\u001b[0m",
            "\u001b[0;31mNameError\u001b[0m                                 Traceback (most recent call last)",
            "\u001b[0;32m<ipython-input-1-4c21df5bfc42>\u001b[0m in \u001b[0;36m<module>\u001b[0;34m()\u001b[0m\n\u001b[0;32m----> 1\u001b[0;31m \u001b[0mX_scaled\u001b[0m \u001b[0;34m=\u001b[0m \u001b[0mscaler\u001b[0m\u001b[0;34m.\u001b[0m\u001b[0mfit_transform\u001b[0m\u001b[0;34m(\u001b[0m\u001b[0mX\u001b[0m\u001b[0;34m)\u001b[0m\u001b[0;34m\u001b[0m\u001b[0;34m\u001b[0m\u001b[0m\n\u001b[0m",
            "\u001b[0;31mNameError\u001b[0m: name 'scaler' is not defined"
          ]
        }
      ]
    },
    {
      "cell_type": "code",
      "source": [
        "X_train, X_test, y_train, y_test = train_test_split(X_scaled, y, test_size=0.2, random_state=101)"
      ],
      "metadata": {
        "id": "ZxS48NaRP2gj"
      },
      "execution_count": null,
      "outputs": []
    },
    {
      "cell_type": "code",
      "source": [
        "reg_lgbm = LGBMRegressor(learning_rate=0.01, max_depth=10, num_leaves=3)\n",
        "# rf = RandomForestRegressor()\n",
        "xgb = XGBRegressor()"
      ],
      "metadata": {
        "id": "GTSNcVUVQFiH"
      },
      "execution_count": null,
      "outputs": []
    },
    {
      "cell_type": "code",
      "source": [
        "reg_lgbm.fit(X_train, y_train)\n",
        "# rf.fit(X_train, y_train)\n",
        "xgb.fit(X_train, y_train)"
      ],
      "metadata": {
        "id": "rUMVLYhDQu_7"
      },
      "execution_count": null,
      "outputs": []
    },
    {
      "cell_type": "code",
      "source": [
        "y_pred = reg_lgbm.predict(X_test)\n",
        "# y_rf = rf.predict(X_test)\n",
        "y_xgb = xgb.predict(X_test)"
      ],
      "metadata": {
        "id": "dz7B5USwQuXa"
      },
      "execution_count": null,
      "outputs": []
    },
    {
      "cell_type": "code",
      "source": [
        "# MSE =sum((y_test - y_pred)**2)/y_test.shape[0]"
      ],
      "metadata": {
        "id": "ESg0N_TxipAT"
      },
      "execution_count": null,
      "outputs": []
    },
    {
      "cell_type": "code",
      "source": [
        "# RMSE = np.sqrt(MSE)"
      ],
      "metadata": {
        "id": "9WdKeIZKjTP8"
      },
      "execution_count": null,
      "outputs": []
    },
    {
      "cell_type": "code",
      "source": [
        "# RMSE"
      ],
      "metadata": {
        "colab": {
          "base_uri": "https://localhost:8080/"
        },
        "id": "aTa8UzPgjUmu",
        "outputId": "a316c2bf-fc17-4bdb-cf0c-172efbf7957f"
      },
      "execution_count": null,
      "outputs": [
        {
          "output_type": "execute_result",
          "data": {
            "text/plain": [
              "1.0516486765733954"
            ]
          },
          "metadata": {},
          "execution_count": 82
        }
      ]
    },
    {
      "cell_type": "code",
      "source": [
        "from sklearn.metrics import mean_squared_error"
      ],
      "metadata": {
        "id": "4TW3y6fvjcbL"
      },
      "execution_count": null,
      "outputs": []
    },
    {
      "cell_type": "code",
      "source": [
        "rmse_lgbm = np.sqrt(mean_squared_error(y_test, y_pred))\n",
        "# rmse_rf = np.sqrt(mean_squared_error(y_test, y_rf))\n",
        "rmse_xgb = np.sqrt(mean_squared_error(y_test, y_xgb))"
      ],
      "metadata": {
        "id": "v2J6GFY-j4iZ"
      },
      "execution_count": null,
      "outputs": []
    },
    {
      "cell_type": "code",
      "source": [
        "print(\n",
        "    f'LGBM : {rmse_lgbm}\\n\n",
        "    XGB: {rmse_xgb}'\n",
        ")"
      ],
      "metadata": {
        "colab": {
          "base_uri": "https://localhost:8080/"
        },
        "id": "qZuCQkZtkBsE",
        "outputId": "68c275f2-e996-46ea-fe09-32eaba06e2b3"
      },
      "execution_count": null,
      "outputs": [
        {
          "output_type": "execute_result",
          "data": {
            "text/plain": [
              "1.0516486765731183"
            ]
          },
          "metadata": {},
          "execution_count": 86
        }
      ]
    },
    {
      "cell_type": "code",
      "source": [
        "mse"
      ],
      "metadata": {
        "colab": {
          "base_uri": "https://localhost:8080/"
        },
        "id": "AdMUCGnYkCY1",
        "outputId": "14cc255b-6dae-40e5-f2d0-af3461c31fd8"
      },
      "execution_count": null,
      "outputs": [
        {
          "output_type": "execute_result",
          "data": {
            "text/plain": [
              "1.1059649389379913"
            ]
          },
          "metadata": {},
          "execution_count": 87
        }
      ]
    },
    {
      "cell_type": "code",
      "source": [
        "from sklearn.model_selection import GridSearchCV"
      ],
      "metadata": {
        "id": "mO0fu_XDkHGb"
      },
      "execution_count": null,
      "outputs": []
    },
    {
      "cell_type": "code",
      "source": [
        "params = {'learning_rate':[0.01, 0.001], 'boosting':['goss', 'dart'], 'max_depth': [10, 15], 'num_leaves':[2,3]}"
      ],
      "metadata": {
        "id": "lezlE47W0Tl8"
      },
      "execution_count": null,
      "outputs": []
    },
    {
      "cell_type": "code",
      "source": [
        "grid = GridSearchCV(reg_lgbm, params, cv=5, verbose=3)"
      ],
      "metadata": {
        "id": "ZPJrkdXd1NQI"
      },
      "execution_count": null,
      "outputs": []
    },
    {
      "cell_type": "code",
      "source": [
        "grid.fit(X_train, y_train)"
      ],
      "metadata": {
        "colab": {
          "base_uri": "https://localhost:8080/"
        },
        "id": "87hcdDlV1e-A",
        "outputId": "a8be61f6-c9da-4b79-d10b-29a851d2233b"
      },
      "execution_count": null,
      "outputs": [
        {
          "output_type": "stream",
          "name": "stdout",
          "text": [
            "Fitting 5 folds for each of 16 candidates, totalling 80 fits\n",
            "[CV 1/5] END boosting=goss, learning_rate=0.01, max_depth=10, num_leaves=2;, score=0.014 total time=  23.1s\n",
            "[CV 2/5] END boosting=goss, learning_rate=0.01, max_depth=10, num_leaves=2;, score=0.014 total time=  20.1s\n",
            "[CV 3/5] END boosting=goss, learning_rate=0.01, max_depth=10, num_leaves=2;, score=0.014 total time=  19.8s\n",
            "[CV 4/5] END boosting=goss, learning_rate=0.01, max_depth=10, num_leaves=2;, score=0.014 total time=  20.3s\n",
            "[CV 5/5] END boosting=goss, learning_rate=0.01, max_depth=10, num_leaves=2;, score=0.014 total time=  19.9s\n",
            "[CV 1/5] END boosting=goss, learning_rate=0.01, max_depth=10, num_leaves=3;, score=0.017 total time=  28.6s\n",
            "[CV 2/5] END boosting=goss, learning_rate=0.01, max_depth=10, num_leaves=3;, score=0.017 total time=  27.5s\n",
            "[CV 3/5] END boosting=goss, learning_rate=0.01, max_depth=10, num_leaves=3;, score=0.017 total time=  28.4s\n",
            "[CV 4/5] END boosting=goss, learning_rate=0.01, max_depth=10, num_leaves=3;, score=0.017 total time=  27.7s\n",
            "[CV 5/5] END boosting=goss, learning_rate=0.01, max_depth=10, num_leaves=3;, score=0.017 total time=  28.0s\n",
            "[CV 1/5] END boosting=goss, learning_rate=0.01, max_depth=15, num_leaves=2;, score=0.014 total time=  19.9s\n",
            "[CV 2/5] END boosting=goss, learning_rate=0.01, max_depth=15, num_leaves=2;, score=0.014 total time=  19.9s\n",
            "[CV 3/5] END boosting=goss, learning_rate=0.01, max_depth=15, num_leaves=2;, score=0.014 total time=  19.5s\n",
            "[CV 4/5] END boosting=goss, learning_rate=0.01, max_depth=15, num_leaves=2;, score=0.014 total time=  19.4s\n",
            "[CV 5/5] END boosting=goss, learning_rate=0.01, max_depth=15, num_leaves=2;, score=0.014 total time=  19.4s\n",
            "[CV 1/5] END boosting=goss, learning_rate=0.01, max_depth=15, num_leaves=3;, score=0.017 total time=  27.0s\n",
            "[CV 2/5] END boosting=goss, learning_rate=0.01, max_depth=15, num_leaves=3;, score=0.017 total time=  26.2s\n",
            "[CV 3/5] END boosting=goss, learning_rate=0.01, max_depth=15, num_leaves=3;, score=0.017 total time=  26.3s\n",
            "[CV 4/5] END boosting=goss, learning_rate=0.01, max_depth=15, num_leaves=3;, score=0.017 total time=  26.6s\n",
            "[CV 5/5] END boosting=goss, learning_rate=0.01, max_depth=15, num_leaves=3;, score=0.017 total time=  26.5s\n",
            "[CV 1/5] END boosting=goss, learning_rate=0.001, max_depth=10, num_leaves=2;, score=0.003 total time=  20.7s\n",
            "[CV 2/5] END boosting=goss, learning_rate=0.001, max_depth=10, num_leaves=2;, score=0.003 total time=  20.1s\n",
            "[CV 3/5] END boosting=goss, learning_rate=0.001, max_depth=10, num_leaves=2;, score=0.003 total time=  20.1s\n",
            "[CV 4/5] END boosting=goss, learning_rate=0.001, max_depth=10, num_leaves=2;, score=0.003 total time=  20.1s\n",
            "[CV 5/5] END boosting=goss, learning_rate=0.001, max_depth=10, num_leaves=2;, score=0.003 total time=  19.9s\n",
            "[CV 1/5] END boosting=goss, learning_rate=0.001, max_depth=10, num_leaves=3;, score=0.003 total time=  27.9s\n",
            "[CV 2/5] END boosting=goss, learning_rate=0.001, max_depth=10, num_leaves=3;, score=0.003 total time=  28.0s\n",
            "[CV 3/5] END boosting=goss, learning_rate=0.001, max_depth=10, num_leaves=3;, score=0.003 total time=  27.5s\n",
            "[CV 4/5] END boosting=goss, learning_rate=0.001, max_depth=10, num_leaves=3;, score=0.003 total time=  28.3s\n",
            "[CV 5/5] END boosting=goss, learning_rate=0.001, max_depth=10, num_leaves=3;, score=0.003 total time=  28.3s\n",
            "[CV 1/5] END boosting=goss, learning_rate=0.001, max_depth=15, num_leaves=2;, score=0.003 total time=  19.8s\n",
            "[CV 2/5] END boosting=goss, learning_rate=0.001, max_depth=15, num_leaves=2;, score=0.003 total time=  19.8s\n",
            "[CV 3/5] END boosting=goss, learning_rate=0.001, max_depth=15, num_leaves=2;, score=0.003 total time=  19.9s\n",
            "[CV 4/5] END boosting=goss, learning_rate=0.001, max_depth=15, num_leaves=2;, score=0.003 total time=  19.7s\n",
            "[CV 5/5] END boosting=goss, learning_rate=0.001, max_depth=15, num_leaves=2;, score=0.003 total time=  19.8s\n",
            "[CV 1/5] END boosting=goss, learning_rate=0.001, max_depth=15, num_leaves=3;, score=0.003 total time=  26.9s\n",
            "[CV 2/5] END boosting=goss, learning_rate=0.001, max_depth=15, num_leaves=3;, score=0.003 total time=  26.8s\n",
            "[CV 3/5] END boosting=goss, learning_rate=0.001, max_depth=15, num_leaves=3;, score=0.003 total time=  26.9s\n",
            "[CV 4/5] END boosting=goss, learning_rate=0.001, max_depth=15, num_leaves=3;, score=0.003 total time=  27.0s\n",
            "[CV 5/5] END boosting=goss, learning_rate=0.001, max_depth=15, num_leaves=3;, score=0.003 total time=  26.7s\n",
            "[CV 1/5] END boosting=dart, learning_rate=0.01, max_depth=10, num_leaves=2;, score=-1.551 total time=  39.6s\n",
            "[CV 2/5] END boosting=dart, learning_rate=0.01, max_depth=10, num_leaves=2;, score=-1.545 total time=  39.7s\n",
            "[CV 3/5] END boosting=dart, learning_rate=0.01, max_depth=10, num_leaves=2;, score=-1.551 total time=  39.3s\n",
            "[CV 4/5] END boosting=dart, learning_rate=0.01, max_depth=10, num_leaves=2;, score=-1.552 total time=  38.9s\n",
            "[CV 5/5] END boosting=dart, learning_rate=0.01, max_depth=10, num_leaves=2;, score=-1.555 total time=  39.5s\n",
            "[CV 1/5] END boosting=dart, learning_rate=0.01, max_depth=10, num_leaves=3;, score=-1.550 total time=  53.8s\n",
            "[CV 2/5] END boosting=dart, learning_rate=0.01, max_depth=10, num_leaves=3;, score=-1.543 total time=  54.2s\n",
            "[CV 3/5] END boosting=dart, learning_rate=0.01, max_depth=10, num_leaves=3;, score=-1.549 total time=  53.4s\n",
            "[CV 4/5] END boosting=dart, learning_rate=0.01, max_depth=10, num_leaves=3;, score=-1.551 total time=  55.1s\n",
            "[CV 5/5] END boosting=dart, learning_rate=0.01, max_depth=10, num_leaves=3;, score=-1.554 total time=  54.0s\n",
            "[CV 1/5] END boosting=dart, learning_rate=0.01, max_depth=15, num_leaves=2;, score=-1.551 total time=  38.0s\n",
            "[CV 2/5] END boosting=dart, learning_rate=0.01, max_depth=15, num_leaves=2;, score=-1.545 total time=  38.7s\n",
            "[CV 3/5] END boosting=dart, learning_rate=0.01, max_depth=15, num_leaves=2;, score=-1.551 total time=  39.3s\n",
            "[CV 4/5] END boosting=dart, learning_rate=0.01, max_depth=15, num_leaves=2;, score=-1.552 total time=  39.0s\n",
            "[CV 5/5] END boosting=dart, learning_rate=0.01, max_depth=15, num_leaves=2;, score=-1.555 total time=  38.2s\n",
            "[CV 1/5] END boosting=dart, learning_rate=0.01, max_depth=15, num_leaves=3;, score=-1.550 total time=  52.9s\n",
            "[CV 2/5] END boosting=dart, learning_rate=0.01, max_depth=15, num_leaves=3;, score=-1.543 total time=  55.3s\n",
            "[CV 3/5] END boosting=dart, learning_rate=0.01, max_depth=15, num_leaves=3;, score=-1.549 total time=  54.4s\n",
            "[CV 4/5] END boosting=dart, learning_rate=0.01, max_depth=15, num_leaves=3;, score=-1.551 total time=  55.3s\n",
            "[CV 5/5] END boosting=dart, learning_rate=0.01, max_depth=15, num_leaves=3;, score=-1.554 total time=  55.1s\n",
            "[CV 1/5] END boosting=dart, learning_rate=0.001, max_depth=10, num_leaves=2;, score=-2.154 total time=  38.7s\n",
            "[CV 2/5] END boosting=dart, learning_rate=0.001, max_depth=10, num_leaves=2;, score=-2.146 total time=  38.4s\n",
            "[CV 3/5] END boosting=dart, learning_rate=0.001, max_depth=10, num_leaves=2;, score=-2.153 total time=  39.8s\n",
            "[CV 4/5] END boosting=dart, learning_rate=0.001, max_depth=10, num_leaves=2;, score=-2.155 total time=  38.9s\n",
            "[CV 5/5] END boosting=dart, learning_rate=0.001, max_depth=10, num_leaves=2;, score=-2.159 total time=  38.8s\n",
            "[CV 1/5] END boosting=dart, learning_rate=0.001, max_depth=10, num_leaves=3;, score=-2.154 total time=  55.9s\n",
            "[CV 2/5] END boosting=dart, learning_rate=0.001, max_depth=10, num_leaves=3;, score=-2.146 total time=  59.1s\n",
            "[CV 3/5] END boosting=dart, learning_rate=0.001, max_depth=10, num_leaves=3;, score=-2.153 total time=  59.1s\n",
            "[CV 4/5] END boosting=dart, learning_rate=0.001, max_depth=10, num_leaves=3;, score=-2.155 total time=  59.0s\n",
            "[CV 5/5] END boosting=dart, learning_rate=0.001, max_depth=10, num_leaves=3;, score=-2.158 total time=  58.5s\n",
            "[CV 1/5] END boosting=dart, learning_rate=0.001, max_depth=15, num_leaves=2;, score=-2.154 total time=  40.6s\n",
            "[CV 2/5] END boosting=dart, learning_rate=0.001, max_depth=15, num_leaves=2;, score=-2.146 total time=  41.0s\n",
            "[CV 3/5] END boosting=dart, learning_rate=0.001, max_depth=15, num_leaves=2;, score=-2.153 total time=  41.8s\n",
            "[CV 4/5] END boosting=dart, learning_rate=0.001, max_depth=15, num_leaves=2;, score=-2.155 total time=  40.5s\n",
            "[CV 5/5] END boosting=dart, learning_rate=0.001, max_depth=15, num_leaves=2;, score=-2.159 total time=  40.2s\n",
            "[CV 1/5] END boosting=dart, learning_rate=0.001, max_depth=15, num_leaves=3;, score=-2.154 total time=  57.9s\n",
            "[CV 2/5] END boosting=dart, learning_rate=0.001, max_depth=15, num_leaves=3;, score=-2.146 total time=  59.3s\n",
            "[CV 3/5] END boosting=dart, learning_rate=0.001, max_depth=15, num_leaves=3;, score=-2.153 total time= 1.0min\n",
            "[CV 4/5] END boosting=dart, learning_rate=0.001, max_depth=15, num_leaves=3;, score=-2.155 total time= 1.0min\n",
            "[CV 5/5] END boosting=dart, learning_rate=0.001, max_depth=15, num_leaves=3;, score=-2.158 total time= 1.0min\n"
          ]
        },
        {
          "output_type": "execute_result",
          "data": {
            "text/plain": [
              "GridSearchCV(cv=5,\n",
              "             estimator=LGBMRegressor(boosting='dart', learning_rate=0.001,\n",
              "                                     max_depth=15, num_leaves=2),\n",
              "             param_grid={'boosting': ['goss', 'dart'],\n",
              "                         'learning_rate': [0.01, 0.001], 'max_depth': [10, 15],\n",
              "                         'num_leaves': [2, 3]},\n",
              "             verbose=3)"
            ]
          },
          "metadata": {},
          "execution_count": 67
        }
      ]
    },
    {
      "cell_type": "code",
      "source": [
        "grid.best_params_"
      ],
      "metadata": {
        "colab": {
          "base_uri": "https://localhost:8080/"
        },
        "id": "ajtf4MC_1nsW",
        "outputId": "ee7213b0-97b9-4c31-97c5-bc03b3b54389"
      },
      "execution_count": null,
      "outputs": [
        {
          "output_type": "execute_result",
          "data": {
            "text/plain": [
              "{'boosting': 'goss', 'learning_rate': 0.01, 'max_depth': 10, 'num_leaves': 3}"
            ]
          },
          "metadata": {},
          "execution_count": 68
        }
      ]
    },
    {
      "cell_type": "code",
      "source": [
        "grid.best_estimator_"
      ],
      "metadata": {
        "colab": {
          "base_uri": "https://localhost:8080/"
        },
        "id": "J5MJgcJfmOO0",
        "outputId": "d1c2979e-dd98-497a-cb8e-9c9538015c82"
      },
      "execution_count": null,
      "outputs": [
        {
          "output_type": "execute_result",
          "data": {
            "text/plain": [
              "LGBMRegressor(boosting='goss', learning_rate=0.01, max_depth=10, num_leaves=3)"
            ]
          },
          "metadata": {},
          "execution_count": 70
        }
      ]
    },
    {
      "cell_type": "code",
      "source": [
        ""
      ],
      "metadata": {
        "id": "uQvzZ2AP1_Uh"
      },
      "execution_count": null,
      "outputs": []
    }
  ],
  "metadata": {
    "colab": {
      "name": "Untitled1.ipynb",
      "provenance": [],
      "collapsed_sections": []
    },
    "kernelspec": {
      "display_name": "Python 3",
      "name": "python3"
    },
    "language_info": {
      "name": "python"
    }
  },
  "nbformat": 4,
  "nbformat_minor": 0
}