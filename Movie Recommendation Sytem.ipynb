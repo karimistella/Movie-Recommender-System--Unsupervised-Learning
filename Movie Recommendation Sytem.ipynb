{
 "cells": [
  {
   "cell_type": "markdown",
   "id": "3788b7f1",
   "metadata": {},
   "source": [
    "# MOVIE RECOMMENDATION SYSTEM 2022\n",
    "A recommendation system is an information filtering system whose main goal is to predict the rating or preference a user might give to an item. This helps create personalized content and better product search experience. One popular use is recommending to users which movie to watch. This is because significant dependencies exist between users and item centric activity. For example a user who is interested in s historical documentary is more likely to be interested in another historical documentary or an educational program, rather than in an action movie.\n",
    "\n",
    "A recommendation system can use either of these two techniques:\n",
    "* Content based filtering\n",
    "* Collaborative filtering \n",
    "\n",
    "In content based filtering, the algorithm seeks to make recommendations based on how similar the properties or features of an item are to other items. \n",
    "\n",
    "In collaborative filtering, we use similarities between users and items simultaneously to provide recommendations. This allows for serendipitous recommendations; that is, collaborative filtering models can recommend an item to user A based on the interests of a similar user B.\n",
    "\n",
    "Here we are going to explore both methods and assess which recommendation system gives us the best results. Increasing sales is the primary goal of a recommender system. By recommending carefully selected items to users, recommender systems bring relevant items to the attention of users. This increases the sales volumes and profits to the merchants.\n",
    "\n",
    "----"
   ]
  },
  {
   "cell_type": "markdown",
   "id": "f49a27b5",
   "metadata": {},
   "source": [
    "<a id=\"cont\"></a>\n",
    "\n",
    "## Table of Contents\n",
    "\n",
    "<a href=#one>1. Importing Packages</a>\n",
    "\n",
    "<a href=#two>2. Loading Data</a>\n",
    "\n",
    "<a href=#three>3. Create Experiment with Comet</a>\n",
    "\n",
    "<a href=#four>4. Exploratory Data Analysis (EDA)</a>\n",
    "\n",
    "<a href=#five>4. Data Engineering</a>\n",
    "\n",
    "<a href=#six>6. Modeling</a>\n",
    "\n",
    "<a href=#seven>7. Model Performance</a>\n",
    "\n",
    "<a href=#eight>8. Model Explanations</a>"
   ]
  },
  {
   "cell_type": "markdown",
   "id": "ee4dcb4f",
   "metadata": {},
   "source": [
    " <a id=\"one\"></a>\n",
    "## 1. Importing Packages\n",
    "<a href=#cont>Back to Table of Contents</a>\n",
    "\n",
    "---\n"
   ]
  },
  {
   "cell_type": "code",
   "execution_count": 1,
   "id": "12a746e4",
   "metadata": {},
   "outputs": [],
   "source": [
    "#basic libraries for processing data\n",
    "import numpy as np\n",
    "import pandas as pd\n",
    "\n",
    "#visualization libraries\n",
    "import seaborn as sns\n",
    "import matplotlib.pyplot as plt\n",
    "%matplotlib inline\n",
    "\n",
    "# save experiments\n",
    "from comet_ml import Experiment"
   ]
  },
  {
   "cell_type": "markdown",
   "id": "afc756ad",
   "metadata": {},
   "source": [
    "<a id=\"two\"></a>\n",
    "## 2. Loading the Data\n",
    "<a class=\"anchor\" id=\"1.1\"></a>\n",
    "<a href=#cont>Back to Table of Contents</a>\n",
    "\n",
    "---\n"
   ]
  },
  {
   "cell_type": "markdown",
   "id": "9a06873d",
   "metadata": {},
   "source": [
    "There are six csv files containing information about the movies. In this section we are going to extract information form the various csv files and add to the main training dataset. "
   ]
  },
  {
   "cell_type": "code",
   "execution_count": 23,
   "id": "772b99c9",
   "metadata": {},
   "outputs": [],
   "source": [
    "#read all the csv files\n",
    "train_df= pd.read_csv('train.csv')\n",
    "imdb_df=pd.read_csv('imdb_data.csv')\n",
    "genome_scores_df=pd.read_csv('genome_scores.csv')\n",
    "genome_tags_df=pd.read_csv('genome_tags.csv')\n",
    "movies_df=pd.read_csv('movies.csv')\n",
    "tags_df=pd.read_csv('tags.csv')"
   ]
  },
  {
   "cell_type": "code",
   "execution_count": 31,
   "id": "3c50c3de",
   "metadata": {},
   "outputs": [
    {
     "data": {
      "text/html": [
       "<div>\n",
       "<style scoped>\n",
       "    .dataframe tbody tr th:only-of-type {\n",
       "        vertical-align: middle;\n",
       "    }\n",
       "\n",
       "    .dataframe tbody tr th {\n",
       "        vertical-align: top;\n",
       "    }\n",
       "\n",
       "    .dataframe thead th {\n",
       "        text-align: right;\n",
       "    }\n",
       "</style>\n",
       "<table border=\"1\" class=\"dataframe\">\n",
       "  <thead>\n",
       "    <tr style=\"text-align: right;\">\n",
       "      <th></th>\n",
       "      <th>userId</th>\n",
       "      <th>movieId</th>\n",
       "      <th>rating</th>\n",
       "      <th>timestamp</th>\n",
       "    </tr>\n",
       "  </thead>\n",
       "  <tbody>\n",
       "    <tr>\n",
       "      <th>0</th>\n",
       "      <td>5163</td>\n",
       "      <td>57669</td>\n",
       "      <td>4.0</td>\n",
       "      <td>1518349992</td>\n",
       "    </tr>\n",
       "    <tr>\n",
       "      <th>1</th>\n",
       "      <td>106343</td>\n",
       "      <td>5</td>\n",
       "      <td>4.5</td>\n",
       "      <td>1206238739</td>\n",
       "    </tr>\n",
       "    <tr>\n",
       "      <th>2</th>\n",
       "      <td>146790</td>\n",
       "      <td>5459</td>\n",
       "      <td>5.0</td>\n",
       "      <td>1076215539</td>\n",
       "    </tr>\n",
       "    <tr>\n",
       "      <th>3</th>\n",
       "      <td>106362</td>\n",
       "      <td>32296</td>\n",
       "      <td>2.0</td>\n",
       "      <td>1423042565</td>\n",
       "    </tr>\n",
       "    <tr>\n",
       "      <th>4</th>\n",
       "      <td>9041</td>\n",
       "      <td>366</td>\n",
       "      <td>3.0</td>\n",
       "      <td>833375837</td>\n",
       "    </tr>\n",
       "  </tbody>\n",
       "</table>\n",
       "</div>"
      ],
      "text/plain": [
       "   userId  movieId  rating   timestamp\n",
       "0    5163    57669     4.0  1518349992\n",
       "1  106343        5     4.5  1206238739\n",
       "2  146790     5459     5.0  1076215539\n",
       "3  106362    32296     2.0  1423042565\n",
       "4    9041      366     3.0   833375837"
      ]
     },
     "execution_count": 31,
     "metadata": {},
     "output_type": "execute_result"
    }
   ],
   "source": [
    "#look at the main training file\n",
    "train_df.head()"
   ]
  },
  {
   "cell_type": "code",
   "execution_count": 37,
   "id": "325eb65c",
   "metadata": {},
   "outputs": [],
   "source": [
    "#add the columns title_cast, budget, runtime, director and plot_keywords to the main trainig file from the imdb dataset.\n",
    "train_df['title_cast'] = train_df['movieId'].map(imdb_df.set_index('movieId')['title_cast'])\n",
    "train_df['budget'] = train_df['movieId'].map(imdb_df.set_index('movieId')['budget'])\n",
    "train_df['runtime'] = train_df['movieId'].map(imdb_df.set_index('movieId')['runtime'])\n",
    "train_df['director'] = train_df['movieId'].map(imdb_df.set_index('movieId')['director'])\n",
    "train_df['plot_keywords'] = train_df['movieId'].map(imdb_df.set_index('movieId')['plot_keywords'])"
   ]
  },
  {
   "cell_type": "code",
   "execution_count": 43,
   "id": "96be2930",
   "metadata": {},
   "outputs": [],
   "source": [
    "#add the columns title and genres to the main training file from the movies dataset.\n",
    "train_df['title'] = train_df['movieId'].map(movies_df.set_index('movieId')['title'])\n",
    "train_df['genres'] = train_df['movieId'].map(movies_df.set_index('movieId')['genres'])"
   ]
  },
  {
   "cell_type": "code",
   "execution_count": 44,
   "id": "d289dfd4",
   "metadata": {},
   "outputs": [
    {
     "data": {
      "text/html": [
       "<div>\n",
       "<style scoped>\n",
       "    .dataframe tbody tr th:only-of-type {\n",
       "        vertical-align: middle;\n",
       "    }\n",
       "\n",
       "    .dataframe tbody tr th {\n",
       "        vertical-align: top;\n",
       "    }\n",
       "\n",
       "    .dataframe thead th {\n",
       "        text-align: right;\n",
       "    }\n",
       "</style>\n",
       "<table border=\"1\" class=\"dataframe\">\n",
       "  <thead>\n",
       "    <tr style=\"text-align: right;\">\n",
       "      <th></th>\n",
       "      <th>userId</th>\n",
       "      <th>movieId</th>\n",
       "      <th>rating</th>\n",
       "      <th>timestamp</th>\n",
       "      <th>title_cast</th>\n",
       "      <th>budget</th>\n",
       "      <th>runtime</th>\n",
       "      <th>director</th>\n",
       "      <th>plot_keywords</th>\n",
       "      <th>title</th>\n",
       "      <th>genres</th>\n",
       "    </tr>\n",
       "  </thead>\n",
       "  <tbody>\n",
       "    <tr>\n",
       "      <th>0</th>\n",
       "      <td>5163</td>\n",
       "      <td>57669</td>\n",
       "      <td>4.0</td>\n",
       "      <td>1518349992</td>\n",
       "      <td>Elizabeth Berrington|Rudy Blomme|Olivier Bonjo...</td>\n",
       "      <td>$15,000,000</td>\n",
       "      <td>107.0</td>\n",
       "      <td>Martin McDonagh</td>\n",
       "      <td>dwarf|bruges|irish|hitman</td>\n",
       "      <td>In Bruges (2008)</td>\n",
       "      <td>Comedy|Crime|Drama|Thriller</td>\n",
       "    </tr>\n",
       "    <tr>\n",
       "      <th>1</th>\n",
       "      <td>106343</td>\n",
       "      <td>5</td>\n",
       "      <td>4.5</td>\n",
       "      <td>1206238739</td>\n",
       "      <td>Steve Martin|Diane Keaton|Martin Short|Kimberl...</td>\n",
       "      <td>$30,000,000</td>\n",
       "      <td>106.0</td>\n",
       "      <td>Albert Hackett</td>\n",
       "      <td>fatherhood|doberman|dog|mansion</td>\n",
       "      <td>Father of the Bride Part II (1995)</td>\n",
       "      <td>Comedy</td>\n",
       "    </tr>\n",
       "    <tr>\n",
       "      <th>2</th>\n",
       "      <td>146790</td>\n",
       "      <td>5459</td>\n",
       "      <td>5.0</td>\n",
       "      <td>1076215539</td>\n",
       "      <td>Tommy Lee Jones|Will Smith|Rip Torn|Lara Flynn...</td>\n",
       "      <td>$140,000,000</td>\n",
       "      <td>88.0</td>\n",
       "      <td>Lowell Cunningham</td>\n",
       "      <td>lingerie|michael jackson character|shorthaired...</td>\n",
       "      <td>Men in Black II (a.k.a. MIIB) (a.k.a. MIB 2) (...</td>\n",
       "      <td>Action|Comedy|Sci-Fi</td>\n",
       "    </tr>\n",
       "    <tr>\n",
       "      <th>3</th>\n",
       "      <td>106362</td>\n",
       "      <td>32296</td>\n",
       "      <td>2.0</td>\n",
       "      <td>1423042565</td>\n",
       "      <td>Sandra Bullock|Regina King|Enrique Murciano|Wi...</td>\n",
       "      <td>$45,000,000</td>\n",
       "      <td>115.0</td>\n",
       "      <td>Marc Lawrence</td>\n",
       "      <td>female protagonist|cleave gag|good woman|fbi</td>\n",
       "      <td>Miss Congeniality 2: Armed and Fabulous (2005)</td>\n",
       "      <td>Adventure|Comedy|Crime</td>\n",
       "    </tr>\n",
       "    <tr>\n",
       "      <th>4</th>\n",
       "      <td>9041</td>\n",
       "      <td>366</td>\n",
       "      <td>3.0</td>\n",
       "      <td>833375837</td>\n",
       "      <td>Jeff Davis|Heather Langenkamp|Miko Hughes|Matt...</td>\n",
       "      <td>$8,000,000</td>\n",
       "      <td>112.0</td>\n",
       "      <td>Wes Craven</td>\n",
       "      <td>freddy krueger|elm street|famous director as h...</td>\n",
       "      <td>Wes Craven's New Nightmare (Nightmare on Elm S...</td>\n",
       "      <td>Drama|Horror|Mystery|Thriller</td>\n",
       "    </tr>\n",
       "  </tbody>\n",
       "</table>\n",
       "</div>"
      ],
      "text/plain": [
       "   userId  movieId  rating   timestamp  \\\n",
       "0    5163    57669     4.0  1518349992   \n",
       "1  106343        5     4.5  1206238739   \n",
       "2  146790     5459     5.0  1076215539   \n",
       "3  106362    32296     2.0  1423042565   \n",
       "4    9041      366     3.0   833375837   \n",
       "\n",
       "                                          title_cast        budget  runtime  \\\n",
       "0  Elizabeth Berrington|Rudy Blomme|Olivier Bonjo...   $15,000,000    107.0   \n",
       "1  Steve Martin|Diane Keaton|Martin Short|Kimberl...   $30,000,000    106.0   \n",
       "2  Tommy Lee Jones|Will Smith|Rip Torn|Lara Flynn...  $140,000,000     88.0   \n",
       "3  Sandra Bullock|Regina King|Enrique Murciano|Wi...   $45,000,000    115.0   \n",
       "4  Jeff Davis|Heather Langenkamp|Miko Hughes|Matt...    $8,000,000    112.0   \n",
       "\n",
       "            director                                      plot_keywords  \\\n",
       "0    Martin McDonagh                          dwarf|bruges|irish|hitman   \n",
       "1     Albert Hackett                    fatherhood|doberman|dog|mansion   \n",
       "2  Lowell Cunningham  lingerie|michael jackson character|shorthaired...   \n",
       "3      Marc Lawrence       female protagonist|cleave gag|good woman|fbi   \n",
       "4         Wes Craven  freddy krueger|elm street|famous director as h...   \n",
       "\n",
       "                                               title  \\\n",
       "0                                   In Bruges (2008)   \n",
       "1                 Father of the Bride Part II (1995)   \n",
       "2  Men in Black II (a.k.a. MIIB) (a.k.a. MIB 2) (...   \n",
       "3     Miss Congeniality 2: Armed and Fabulous (2005)   \n",
       "4  Wes Craven's New Nightmare (Nightmare on Elm S...   \n",
       "\n",
       "                          genres  \n",
       "0    Comedy|Crime|Drama|Thriller  \n",
       "1                         Comedy  \n",
       "2           Action|Comedy|Sci-Fi  \n",
       "3         Adventure|Comedy|Crime  \n",
       "4  Drama|Horror|Mystery|Thriller  "
      ]
     },
     "execution_count": 44,
     "metadata": {},
     "output_type": "execute_result"
    }
   ],
   "source": [
    "#visualize our final train dataframe\n",
    "train_df.head()"
   ]
  },
  {
   "cell_type": "markdown",
   "id": "19f2da2c",
   "metadata": {},
   "source": [
    "<a id=\"three\"></a>\n",
    "## 3. Create Experiment with Comet\n",
    "<a class=\"anchor\" id=\"1.1\"></a>\n",
    "<a href=#cont>Back to Table of Contents</a>\n",
    "\n",
    "---"
   ]
  },
  {
   "cell_type": "code",
   "execution_count": 49,
   "id": "ccd225f5",
   "metadata": {},
   "outputs": [
    {
     "name": "stderr",
     "output_type": "stream",
     "text": [
      "COMET WARNING: As you are running in a Jupyter environment, you will need to call `experiment.end()` when finished to ensure all metrics and code are logged before exiting.\n",
      "COMET WARNING: The given value of the metric sys.load.avg was None; ignoring\n",
      "COMET INFO: Experiment is live on comet.ml https://www.comet.ml/stella/edsa-movie-recommendation-system/7561d45c4d164044a454a6d6cb7bee86\n",
      "\n",
      "COMET INFO: Couldn't find a Git repository in 'C:\\\\Users\\\\Stella\\\\Documents\\\\Explore Data Science\\\\unsupervised learning\\\\Predict' nor in any parent directory. You can override where Comet is looking for a Git Patch by setting the configuration `COMET_GIT_DIRECTORY`\n",
      "COMET WARNING: The given value of the metric sys.load.avg was None; ignoring\n",
      "COMET WARNING: The given value of the metric sys.load.avg was None; ignoring\n",
      "COMET WARNING: The given value of the metric sys.load.avg was None; ignoring\n"
     ]
    }
   ],
   "source": [
    "# Create an experiment with your api key\n",
    "experiment = Experiment(\n",
    "    api_key=\"nslGETXycV0zGWbDfDoCsMaHL\",\n",
    "    project_name=\"edsa-movie-recommendation-system\",\n",
    "    workspace=\"stella\",\n",
    ")"
   ]
  },
  {
   "cell_type": "markdown",
   "id": "13862d93",
   "metadata": {},
   "source": [
    "<a id=\"four\"></a>\n",
    "## 4. Exploratory Data Analysis (EDA)\n",
    "<a class=\"anchor\" id=\"1.1\"></a>\n",
    "<a href=#cont>Back to Table of Contents</a>\n",
    "\n",
    "---\n",
    "\n"
   ]
  },
  {
   "cell_type": "markdown",
   "id": "d7e71eb0",
   "metadata": {},
   "source": [
    "The Exploratory Data Analysis Section involves extracting insights from the training dataset. In summary this section involves:\n",
    "* The shape of the training dataset\n",
    "* Checking for Null values\n",
    "* Unique number of users\n",
    "* The distribution of ratings\n",
    "* Word Clouds"
   ]
  },
  {
   "cell_type": "code",
   "execution_count": 54,
   "id": "86af073c",
   "metadata": {},
   "outputs": [
    {
     "name": "stdout",
     "output_type": "stream",
     "text": [
      "Total number of rows in dataset:  10000038\n",
      "Total number of columns in dataset:  11\n"
     ]
    },
    {
     "name": "stderr",
     "output_type": "stream",
     "text": [
      "COMET WARNING: The given value of the metric sys.load.avg was None; ignoring\n"
     ]
    }
   ],
   "source": [
    "#shape of training data\n",
    "print(f'Total number of rows in dataset:  {train_df.shape[0]}')\n",
    "print(f'Total number of columns in dataset:  {train_df.shape[1]}')"
   ]
  },
  {
   "cell_type": "code",
   "execution_count": 55,
   "id": "cae040e1",
   "metadata": {},
   "outputs": [
    {
     "data": {
      "text/plain": [
       "userId                 0\n",
       "movieId                0\n",
       "rating                 0\n",
       "timestamp              0\n",
       "title_cast       2971414\n",
       "budget           3519283\n",
       "runtime          3020065\n",
       "director         2969695\n",
       "plot_keywords    2977050\n",
       "title                  0\n",
       "genres                 0\n",
       "dtype: int64"
      ]
     },
     "execution_count": 55,
     "metadata": {},
     "output_type": "execute_result"
    },
    {
     "name": "stderr",
     "output_type": "stream",
     "text": [
      "COMET WARNING: The given value of the metric sys.load.avg was None; ignoring\n",
      "COMET WARNING: The given value of the metric sys.load.avg was None; ignoring\n",
      "COMET WARNING: The given value of the metric sys.load.avg was None; ignoring\n",
      "COMET WARNING: The given value of the metric sys.load.avg was None; ignoring\n",
      "COMET WARNING: The given value of the metric sys.load.avg was None; ignoring\n",
      "COMET WARNING: The given value of the metric sys.load.avg was None; ignoring\n",
      "COMET WARNING: The given value of the metric sys.load.avg was None; ignoring\n"
     ]
    }
   ],
   "source": [
    "#checking for null values\n",
    "train_df.isnull().sum()"
   ]
  },
  {
   "cell_type": "markdown",
   "id": "18d685cc",
   "metadata": {},
   "source": [
    "The columns 'title_cast', 'budget', 'runtime', 'director' and 'plot_keywords' have more that 2.5 million null values. This"
   ]
  },
  {
   "cell_type": "code",
   "execution_count": 68,
   "id": "69a73495",
   "metadata": {},
   "outputs": [
    {
     "name": "stdout",
     "output_type": "stream",
     "text": [
      "Percentage of missing values in title_cast column is: 29.71402708669707\n",
      "Percentage of missing values in budget column is: 35.19269626775418\n",
      "Percentage of missing values in runtime column is: 30.200535237966097\n",
      "Percentage of missing values in the director column is: 29.696837152018823\n",
      "Percentage of missing values in plot_keywords column is: 29.770386872529887\n"
     ]
    },
    {
     "name": "stderr",
     "output_type": "stream",
     "text": [
      "COMET WARNING: The given value of the metric sys.load.avg was None; ignoring\n"
     ]
    }
   ],
   "source": [
    "#percentage of null values for each column:\n",
    "title_cast= 2971414/len(train_df)*100\n",
    "print('Percentage of missing values in title_cast column is: ' + str(title_cast))\n",
    "budget= 3519283/len(train_df)*100\n",
    "print('Percentage of missing values in budget column is: ' + str(budget))\n",
    "runtime= 3020065/len(train_df)*100\n",
    "print('Percentage of missing values in runtime column is: ' + str(runtime))\n",
    "director = 2969695/len(train_df)*100\n",
    "print('Percentage of missing values in the director column is: ' + str(director))\n",
    "plot_keywords = 2977050/len(train_df)*100\n",
    "print('Percentage of missing values in plot_keywords column is: ' + str(plot_keywords))\n"
   ]
  },
  {
   "cell_type": "code",
   "execution_count": 70,
   "id": "b9604ecc",
   "metadata": {},
   "outputs": [
    {
     "name": "stdout",
     "output_type": "stream",
     "text": [
      "Number of unique usesr in the trainset is : 162541\n"
     ]
    },
    {
     "name": "stderr",
     "output_type": "stream",
     "text": [
      "COMET WARNING: The given value of the metric sys.load.avg was None; ignoring\n"
     ]
    }
   ],
   "source": [
    "# number of unique users\n",
    "users = train_df['userId'].unique()\n",
    "print ('Number of unique usesr in the trainset is : ' + str(len(users)))"
   ]
  },
  {
   "cell_type": "code",
   "execution_count": null,
   "id": "303658e7",
   "metadata": {},
   "outputs": [
    {
     "name": "stderr",
     "output_type": "stream",
     "text": [
      "C:\\Users\\Stella\\anaconda\\lib\\site-packages\\seaborn\\categorical.py:3714: UserWarning: The `factorplot` function has been renamed to `catplot`. The original name will be removed in a future release. Please update your code. Note that the default `kind` in `factorplot` (`'point'`) has changed `'strip'` in `catplot`.\n",
      "  warnings.warn(msg)\n",
      "C:\\Users\\Stella\\anaconda\\lib\\site-packages\\seaborn\\_decorators.py:36: FutureWarning: Pass the following variable as a keyword arg: x. From version 0.12, the only valid positional argument will be `data`, and passing other arguments without an explicit keyword will result in an error or misinterpretation.\n",
      "  warnings.warn(\n",
      "COMET WARNING: The given value of the metric sys.load.avg was None; ignoring\n",
      "COMET WARNING: The given value of the metric sys.load.avg was None; ignoring\n",
      "COMET WARNING: The given value of the metric sys.load.avg was None; ignoring\n"
     ]
    }
   ],
   "source": [
    "#distribution of the ratings\n",
    "with sns.axes_style('white'):\n",
    "    g = sns.factorplot(\"rating\", data=train_df, aspect=2.0,kind='count')\n",
    "    g.set_ylabels(\"Total number of ratings\")\n",
    "print (f'Average rating in dataset: {np.mean(train_df[\"rating\"])}')"
   ]
  },
  {
   "cell_type": "markdown",
   "id": "61dc88b2",
   "metadata": {},
   "source": [
    "We can note that:\n",
    "* Most movies recieved a rating of 4.0\n",
    "* Most movie ratings are above 3.0\n"
   ]
  },
  {
   "cell_type": "code",
   "execution_count": null,
   "id": "f6a68dcc",
   "metadata": {},
   "outputs": [],
   "source": []
  },
  {
   "cell_type": "markdown",
   "id": "a5002887",
   "metadata": {},
   "source": [
    "<a id=\"five\"></a>\n",
    "## 5. Data Engineering\n",
    "<a class=\"anchor\" id=\"1.1\"></a>\n",
    "<a href=#cont>Back to Table of Contents</a>\n",
    "\n",
    "---"
   ]
  },
  {
   "cell_type": "markdown",
   "id": "b0a576a1",
   "metadata": {},
   "source": [
    "<a id=\"six\"></a>\n",
    "## 6. Modelling\n",
    "<a class=\"anchor\" id=\"1.1\"></a>\n",
    "<a href=#cont>Back to Table of Contents</a>\n",
    "\n",
    "----"
   ]
  },
  {
   "cell_type": "markdown",
   "id": "9d892448",
   "metadata": {},
   "source": [
    "<a id=\"seven\"></a>\n",
    "## 7. Model Performance\n",
    "<a class=\"anchor\" id=\"1.1\"></a>\n",
    "<a href=#cont>Back to Table of Contents</a>\n",
    "\n",
    "---"
   ]
  },
  {
   "cell_type": "markdown",
   "id": "1dae67b5",
   "metadata": {},
   "source": [
    "<a id=\"eight\"></a>\n",
    "## 8. Model Explanations\n",
    "<a class=\"anchor\" id=\"1.1\"></a>\n",
    "<a href=#cont>Back to Table of Contents</a>\n",
    "\n",
    "---"
   ]
  },
  {
   "cell_type": "code",
   "execution_count": null,
   "id": "c19e82c5",
   "metadata": {},
   "outputs": [],
   "source": [
    "experiment.end()"
   ]
  },
  {
   "cell_type": "code",
   "execution_count": null,
   "id": "23393a41",
   "metadata": {},
   "outputs": [],
   "source": []
  }
 ],
 "metadata": {
  "kernelspec": {
   "display_name": "Python 3",
   "language": "python",
   "name": "python3"
  },
  "language_info": {
   "codemirror_mode": {
    "name": "ipython",
    "version": 3
   },
   "file_extension": ".py",
   "mimetype": "text/x-python",
   "name": "python",
   "nbconvert_exporter": "python",
   "pygments_lexer": "ipython3",
   "version": "3.8.8"
  }
 },
 "nbformat": 4,
 "nbformat_minor": 5
}
